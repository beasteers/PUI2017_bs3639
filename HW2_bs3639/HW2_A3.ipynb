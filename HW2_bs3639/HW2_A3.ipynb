{
 "cells": [
  {
   "cell_type": "code",
   "execution_count": 1,
   "metadata": {
    "collapsed": false
   },
   "outputs": [],
   "source": [
    "# 1. Fire off notebook\n",
    "import os\n",
    "import pandas as pd\n",
    "import matplotlib.pyplot as plt\n",
    "%matplotlib inline"
   ]
  },
  {
   "cell_type": "code",
   "execution_count": 2,
   "metadata": {
    "collapsed": false
   },
   "outputs": [
    {
     "data": {
      "text/plain": [
       "'/gws/open/NYCOpenData/nycopendata/data'"
      ]
     },
     "execution_count": 2,
     "metadata": {},
     "output_type": "execute_result"
    }
   ],
   "source": [
    "# 2. Check if env var DFDATA exists\n",
    "dfdata = os.getenv('DFDATA')\n",
    "dfdata"
   ]
  },
  {
   "cell_type": "code",
   "execution_count": 3,
   "metadata": {
    "collapsed": false
   },
   "outputs": [
    {
     "data": {
      "text/html": [
       "<div>\n",
       "<table border=\"1\" class=\"dataframe\">\n",
       "  <thead>\n",
       "    <tr style=\"text-align: right;\">\n",
       "      <th></th>\n",
       "      <th>TITLE</th>\n",
       "      <th>DESCR</th>\n",
       "      <th>SFX</th>\n",
       "      <th>SFFX DESCR</th>\n",
       "      <th>STD HRS</th>\n",
       "      <th>ASG LVL</th>\n",
       "      <th>JOBCD</th>\n",
       "      <th>UNION CD</th>\n",
       "      <th>UNION DESCR</th>\n",
       "      <th>BARG UNIT</th>\n",
       "      <th>BARG UNIT DESCR</th>\n",
       "      <th>APRL BANK</th>\n",
       "      <th>APRL LVL</th>\n",
       "      <th>MIN RATE</th>\n",
       "      <th>MAX RATE</th>\n",
       "    </tr>\n",
       "  </thead>\n",
       "  <tbody>\n",
       "    <tr>\n",
       "      <th>0</th>\n",
       "      <td>NaN</td>\n",
       "      <td>DESCR</td>\n",
       "      <td>NaN</td>\n",
       "      <td>SFFX DESCR</td>\n",
       "      <td>NaN</td>\n",
       "      <td>NaN</td>\n",
       "      <td>NaN</td>\n",
       "      <td>NaN</td>\n",
       "      <td>UNION DESCR</td>\n",
       "      <td>BARG UNIT</td>\n",
       "      <td>BARG UNIT DESCR</td>\n",
       "      <td>APRL BANK</td>\n",
       "      <td>APRL LVL</td>\n",
       "      <td>NaN</td>\n",
       "      <td>NaN</td>\n",
       "    </tr>\n",
       "    <tr>\n",
       "      <th>1</th>\n",
       "      <td>2917.0</td>\n",
       "      <td>PUBLIC RELATION SPEC</td>\n",
       "      <td>0.0</td>\n",
       "      <td>PUBLIC RELATION SPEC</td>\n",
       "      <td>35.0</td>\n",
       "      <td>0.0</td>\n",
       "      <td>11363.0</td>\n",
       "      <td>403.0</td>\n",
       "      <td>UNIQUE TITLES DB OF ED</td>\n",
       "      <td>N/U</td>\n",
       "      <td>Non-Union</td>\n",
       "      <td>Z</td>\n",
       "      <td>00</td>\n",
       "      <td>$36.10</td>\n",
       "      <td>$45.86</td>\n",
       "    </tr>\n",
       "    <tr>\n",
       "      <th>2</th>\n",
       "      <td>2917.0</td>\n",
       "      <td>PUBLIC RELATION SPEC</td>\n",
       "      <td>0.0</td>\n",
       "      <td>PUBLIC RELATION SPEC</td>\n",
       "      <td>35.0</td>\n",
       "      <td>0.0</td>\n",
       "      <td>8562.0</td>\n",
       "      <td>772.0</td>\n",
       "      <td>NON COMPETITIVE MANAGER</td>\n",
       "      <td>N/U</td>\n",
       "      <td>Non-Union</td>\n",
       "      <td>H</td>\n",
       "      <td>M1</td>\n",
       "      <td>$47748.00</td>\n",
       "      <td>$61955.00</td>\n",
       "    </tr>\n",
       "    <tr>\n",
       "      <th>3</th>\n",
       "      <td>2917.0</td>\n",
       "      <td>PUBLIC RELATION SPEC</td>\n",
       "      <td>0.0</td>\n",
       "      <td>PUBLIC RELATION SPEC</td>\n",
       "      <td>35.0</td>\n",
       "      <td>0.0</td>\n",
       "      <td>8563.0</td>\n",
       "      <td>772.0</td>\n",
       "      <td>NON COMPETITIVE MANAGER</td>\n",
       "      <td>N/U</td>\n",
       "      <td>Non-Union</td>\n",
       "      <td>H</td>\n",
       "      <td>M2</td>\n",
       "      <td>$54767.00</td>\n",
       "      <td>$71066.00</td>\n",
       "    </tr>\n",
       "    <tr>\n",
       "      <th>4</th>\n",
       "      <td>2917.0</td>\n",
       "      <td>PUBLIC RELATION SPEC</td>\n",
       "      <td>0.0</td>\n",
       "      <td>PUBLIC RELATION SPEC</td>\n",
       "      <td>35.0</td>\n",
       "      <td>0.0</td>\n",
       "      <td>8564.0</td>\n",
       "      <td>772.0</td>\n",
       "      <td>NON COMPETITIVE MANAGER</td>\n",
       "      <td>N/U</td>\n",
       "      <td>Non-Union</td>\n",
       "      <td>H</td>\n",
       "      <td>M3</td>\n",
       "      <td>$61791.00</td>\n",
       "      <td>$80177.00</td>\n",
       "    </tr>\n",
       "  </tbody>\n",
       "</table>\n",
       "</div>"
      ],
      "text/plain": [
       "    TITLE                 DESCR  SFX            SFFX DESCR  STD HRS  ASG LVL  \\\n",
       "0     NaN                 DESCR  NaN            SFFX DESCR      NaN      NaN   \n",
       "1  2917.0  PUBLIC RELATION SPEC  0.0  PUBLIC RELATION SPEC     35.0      0.0   \n",
       "2  2917.0  PUBLIC RELATION SPEC  0.0  PUBLIC RELATION SPEC     35.0      0.0   \n",
       "3  2917.0  PUBLIC RELATION SPEC  0.0  PUBLIC RELATION SPEC     35.0      0.0   \n",
       "4  2917.0  PUBLIC RELATION SPEC  0.0  PUBLIC RELATION SPEC     35.0      0.0   \n",
       "\n",
       "     JOBCD  UNION CD              UNION DESCR  BARG UNIT  BARG UNIT DESCR  \\\n",
       "0      NaN       NaN              UNION DESCR  BARG UNIT  BARG UNIT DESCR   \n",
       "1  11363.0     403.0   UNIQUE TITLES DB OF ED        N/U        Non-Union   \n",
       "2   8562.0     772.0  NON COMPETITIVE MANAGER        N/U        Non-Union   \n",
       "3   8563.0     772.0  NON COMPETITIVE MANAGER        N/U        Non-Union   \n",
       "4   8564.0     772.0  NON COMPETITIVE MANAGER        N/U        Non-Union   \n",
       "\n",
       "   APRL BANK  APRL LVL   MIN RATE   MAX RATE  \n",
       "0  APRL BANK  APRL LVL        NaN        NaN  \n",
       "1          Z        00     $36.10     $45.86  \n",
       "2          H        M1  $47748.00  $61955.00  \n",
       "3          H        M2  $54767.00  $71066.00  \n",
       "4          H        M3  $61791.00  $80177.00  "
      ]
     },
     "execution_count": 3,
     "metadata": {},
     "output_type": "execute_result"
    }
   ],
   "source": [
    "# 3. Read csv file\n",
    "data_file = 's7yj-m732/1414245680/s7yj-m732'\n",
    "\n",
    "# data catolog: https://datahub.cusp.nyu.edu/catalog\n",
    "df = pd.read_csv(os.path.join(dfdata, data_file))\n",
    "\n",
    "# 4. Display top rows\n",
    "df.head()"
   ]
  },
  {
   "cell_type": "code",
   "execution_count": 4,
   "metadata": {
    "collapsed": false
   },
   "outputs": [
    {
     "data": {
      "text/html": [
       "<div>\n",
       "<table border=\"1\" class=\"dataframe\">\n",
       "  <thead>\n",
       "    <tr style=\"text-align: right;\">\n",
       "      <th></th>\n",
       "      <th>MIN RATE</th>\n",
       "      <th>MAX RATE</th>\n",
       "    </tr>\n",
       "  </thead>\n",
       "  <tbody>\n",
       "    <tr>\n",
       "      <th>1</th>\n",
       "      <td>$36.10</td>\n",
       "      <td>$45.86</td>\n",
       "    </tr>\n",
       "    <tr>\n",
       "      <th>2</th>\n",
       "      <td>$47748.00</td>\n",
       "      <td>$61955.00</td>\n",
       "    </tr>\n",
       "    <tr>\n",
       "      <th>3</th>\n",
       "      <td>$54767.00</td>\n",
       "      <td>$71066.00</td>\n",
       "    </tr>\n",
       "    <tr>\n",
       "      <th>4</th>\n",
       "      <td>$61791.00</td>\n",
       "      <td>$80177.00</td>\n",
       "    </tr>\n",
       "    <tr>\n",
       "      <th>5</th>\n",
       "      <td>$68810.00</td>\n",
       "      <td>$89288.00</td>\n",
       "    </tr>\n",
       "  </tbody>\n",
       "</table>\n",
       "</div>"
      ],
      "text/plain": [
       "    MIN RATE   MAX RATE\n",
       "1     $36.10     $45.86\n",
       "2  $47748.00  $61955.00\n",
       "3  $54767.00  $71066.00\n",
       "4  $61791.00  $80177.00\n",
       "5  $68810.00  $89288.00"
      ]
     },
     "execution_count": 4,
     "metadata": {},
     "output_type": "execute_result"
    }
   ],
   "source": [
    "# two numerical columns that we will plot against each other\n",
    "xcol, ycol = 'MIN RATE', 'MAX RATE'\n",
    "\n",
    "# 5. Remove all but two numerical columns\n",
    "df = df.drop([\n",
    "        col for col in df.columns \n",
    "        if col not in [xcol, ycol]\n",
    "], axis=1).dropna(how='any')\n",
    "\n",
    "# 6. Display reduced dataframe\n",
    "df.head()"
   ]
  },
  {
   "cell_type": "code",
   "execution_count": 5,
   "metadata": {
    "collapsed": false,
    "scrolled": true
   },
   "outputs": [
    {
     "data": {
      "image/png": "[encoded data removed]",
      "text/plain": [
       "<matplotlib.figure.Figure at 0x7f1e7bb77588>"
      ]
     },
     "metadata": {},
     "output_type": "display_data"
    }
   ],
   "source": [
    "# convert currency values to float\n",
    "df[xcol] = df[xcol].replace('[\\$,]', '', regex=True).astype(float)\n",
    "df[ycol] = df[ycol].replace('[\\$,]', '', regex=True).astype(float)\n",
    "\n",
    "# 7. Plot the two numerical columns against eachother\n",
    "df.plot(xcol, ycol, kind='scatter')\n",
    "\n",
    "plt.title('Max Rate plotted against the Min Rate for NYC Department of Education Job Titles')\n",
    "plt.xlabel('{} ($)'.format(xcol.title()))\n",
    "plt.ylabel('{} ($)'.format(ycol.title()))\n",
    "plt.xlim([0, 300000])\n",
    "plt.ylim([0, 320000])\n",
    "plt.show()"
   ]
  },
  {
   "cell_type": "markdown",
   "metadata": {},
   "source": [
    "### Figure 1\n",
    "Max Annual Pay Rate plotted against the Min Annual Pay Rate for NYC Department of Education Job Titles."
   ]
  }
 ],
 "metadata": {
  "kernelspec": {
   "display_name": "PUI2016_Python3",
   "language": "python",
   "name": "pui2016_python3"
  },
  "language_info": {
   "codemirror_mode": {
    "name": "ipython",
    "version": 3
   },
   "file_extension": ".py",
   "mimetype": "text/x-python",
   "name": "python",
   "nbconvert_exporter": "python",
   "pygments_lexer": "ipython3",
   "version": "3.5.2"
  }
 },
 "nbformat": 4,
 "nbformat_minor": 0
}

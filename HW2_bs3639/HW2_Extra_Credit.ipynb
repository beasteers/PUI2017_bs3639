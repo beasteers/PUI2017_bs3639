{
 "cells": [
  {
   "cell_type": "code",
   "execution_count": 1,
   "metadata": {
    "collapsed": false
   },
   "outputs": [],
   "source": [
    "# 1. Fire off notebook\n",
    "import os\n",
    "import pandas as pd\n",
    "import matplotlib.pyplot as plt\n",
    "%matplotlib inline"
   ]
  },
  {
   "cell_type": "code",
   "execution_count": 2,
   "metadata": {
    "collapsed": false
   },
   "outputs": [
    {
     "data": {
      "text/plain": [
       "'/gws/open/NYCOpenData/nycopendata/data'"
      ]
     },
     "execution_count": 2,
     "metadata": {},
     "output_type": "execute_result"
    }
   ],
   "source": [
    "# 2. Check if env var DFDATA exists\n",
    "dfdata = os.getenv('DFDATA')\n",
    "dfdata"
   ]
  },
  {
   "cell_type": "code",
   "execution_count": 3,
   "metadata": {
    "collapsed": false
   },
   "outputs": [
    {
     "data": {
      "text/html": [
       "<div>\n",
       "<table border=\"1\" class=\"dataframe\">\n",
       "  <thead>\n",
       "    <tr style=\"text-align: right;\">\n",
       "      <th></th>\n",
       "      <th>ELECTION</th>\n",
       "      <th>OFFICECD</th>\n",
       "      <th>CANDID</th>\n",
       "      <th>CANCLASS</th>\n",
       "      <th>CANDLAST</th>\n",
       "      <th>CANDFIRST</th>\n",
       "      <th>CANDMI</th>\n",
       "      <th>COMMITTEE</th>\n",
       "      <th>FILING</th>\n",
       "      <th>SCHEDULE</th>\n",
       "      <th>...</th>\n",
       "      <th>APARTMENT</th>\n",
       "      <th>PAY_METHOD</th>\n",
       "      <th>AMNT</th>\n",
       "      <th>PURPOSECD</th>\n",
       "      <th>PURPOSE</th>\n",
       "      <th>EXPLAIN</th>\n",
       "      <th>EXEMPTCD</th>\n",
       "      <th>RR_IND</th>\n",
       "      <th>SEG_IND</th>\n",
       "      <th>Location 1</th>\n",
       "    </tr>\n",
       "  </thead>\n",
       "  <tbody>\n",
       "    <tr>\n",
       "      <th>0</th>\n",
       "      <td>NaN</td>\n",
       "      <td>NaN</td>\n",
       "      <td>CANDID</td>\n",
       "      <td>CANCLASS</td>\n",
       "      <td>CANDLAST</td>\n",
       "      <td>CANDFIRST</td>\n",
       "      <td>CANDMI</td>\n",
       "      <td>COMMITTEE</td>\n",
       "      <td>NaN</td>\n",
       "      <td>SCHEDULE</td>\n",
       "      <td>...</td>\n",
       "      <td>APARTMENT</td>\n",
       "      <td>PAY_METHOD</td>\n",
       "      <td>NaN</td>\n",
       "      <td>PURPOSECD</td>\n",
       "      <td>PURPOSE</td>\n",
       "      <td>EXPLAIN</td>\n",
       "      <td>EXEMPTCD</td>\n",
       "      <td>RR_IND</td>\n",
       "      <td>SEG_IND</td>\n",
       "      <td>NaN</td>\n",
       "    </tr>\n",
       "    <tr>\n",
       "      <th>1</th>\n",
       "      <td>2005.0</td>\n",
       "      <td>4.0</td>\n",
       "      <td>206</td>\n",
       "      <td>P</td>\n",
       "      <td>Manzano</td>\n",
       "      <td>Carlos</td>\n",
       "      <td>NaN</td>\n",
       "      <td>K</td>\n",
       "      <td>5.0</td>\n",
       "      <td>F</td>\n",
       "      <td>...</td>\n",
       "      <td>NaN</td>\n",
       "      <td>Final</td>\n",
       "      <td>918.0</td>\n",
       "      <td>FUNDR</td>\n",
       "      <td>Fundraising</td>\n",
       "      <td>Catered Event</td>\n",
       "      <td>NaN</td>\n",
       "      <td>N</td>\n",
       "      <td>N</td>\n",
       "      <td>New York, NY 10019\\n(40.76761164715987, -73.99...</td>\n",
       "    </tr>\n",
       "    <tr>\n",
       "      <th>2</th>\n",
       "      <td>2005.0</td>\n",
       "      <td>4.0</td>\n",
       "      <td>ED</td>\n",
       "      <td>P</td>\n",
       "      <td>Carrion, Jr.</td>\n",
       "      <td>Adolfo</td>\n",
       "      <td>NaN</td>\n",
       "      <td>J</td>\n",
       "      <td>5.0</td>\n",
       "      <td>F</td>\n",
       "      <td>...</td>\n",
       "      <td>3RDFL</td>\n",
       "      <td>Final</td>\n",
       "      <td>1500.0</td>\n",
       "      <td>OTHER</td>\n",
       "      <td>Other: explntion</td>\n",
       "      <td>EVENT TICKETS</td>\n",
       "      <td>NaN</td>\n",
       "      <td>N</td>\n",
       "      <td>N</td>\n",
       "      <td>New York, NY 10017\\n(40.75245652744684, -73.97...</td>\n",
       "    </tr>\n",
       "    <tr>\n",
       "      <th>3</th>\n",
       "      <td>2005.0</td>\n",
       "      <td>4.0</td>\n",
       "      <td>ED</td>\n",
       "      <td>P</td>\n",
       "      <td>Carrion, Jr.</td>\n",
       "      <td>Adolfo</td>\n",
       "      <td>NaN</td>\n",
       "      <td>J</td>\n",
       "      <td>8.0</td>\n",
       "      <td>F</td>\n",
       "      <td>...</td>\n",
       "      <td>3RDFL</td>\n",
       "      <td>Final</td>\n",
       "      <td>3200.0</td>\n",
       "      <td>CNTRB</td>\n",
       "      <td>Polit Contribs.</td>\n",
       "      <td>EVENT TICKETS</td>\n",
       "      <td>NaN</td>\n",
       "      <td>N</td>\n",
       "      <td>N</td>\n",
       "      <td>New York, NY 10017\\n(40.75245652744684, -73.97...</td>\n",
       "    </tr>\n",
       "    <tr>\n",
       "      <th>4</th>\n",
       "      <td>2005.0</td>\n",
       "      <td>4.0</td>\n",
       "      <td>BW</td>\n",
       "      <td>P</td>\n",
       "      <td>Moskowitz</td>\n",
       "      <td>Eva</td>\n",
       "      <td>S</td>\n",
       "      <td>A</td>\n",
       "      <td>10.0</td>\n",
       "      <td>F</td>\n",
       "      <td>...</td>\n",
       "      <td>NaN</td>\n",
       "      <td>Final</td>\n",
       "      <td>55.0</td>\n",
       "      <td>OTHER</td>\n",
       "      <td>Other: explntion</td>\n",
       "      <td>Flowers</td>\n",
       "      <td>NaN</td>\n",
       "      <td>N</td>\n",
       "      <td>N</td>\n",
       "      <td>NaN</td>\n",
       "    </tr>\n",
       "  </tbody>\n",
       "</table>\n",
       "<p>5 rows × 30 columns</p>\n",
       "</div>"
      ],
      "text/plain": [
       "   ELECTION  OFFICECD  CANDID  CANCLASS      CANDLAST  CANDFIRST  CANDMI  \\\n",
       "0       NaN       NaN  CANDID  CANCLASS      CANDLAST  CANDFIRST  CANDMI   \n",
       "1    2005.0       4.0     206         P       Manzano     Carlos     NaN   \n",
       "2    2005.0       4.0      ED         P  Carrion, Jr.     Adolfo     NaN   \n",
       "3    2005.0       4.0      ED         P  Carrion, Jr.     Adolfo     NaN   \n",
       "4    2005.0       4.0      BW         P     Moskowitz        Eva       S   \n",
       "\n",
       "   COMMITTEE  FILING  SCHEDULE  \\\n",
       "0  COMMITTEE     NaN  SCHEDULE   \n",
       "1          K     5.0         F   \n",
       "2          J     5.0         F   \n",
       "3          J     8.0         F   \n",
       "4          A    10.0         F   \n",
       "\n",
       "                         ...                          APARTMENT  PAY_METHOD  \\\n",
       "0                        ...                          APARTMENT  PAY_METHOD   \n",
       "1                        ...                                NaN       Final   \n",
       "2                        ...                              3RDFL       Final   \n",
       "3                        ...                              3RDFL       Final   \n",
       "4                        ...                                NaN       Final   \n",
       "\n",
       "     AMNT  PURPOSECD           PURPOSE        EXPLAIN  EXEMPTCD  RR_IND  \\\n",
       "0     NaN  PURPOSECD           PURPOSE        EXPLAIN  EXEMPTCD  RR_IND   \n",
       "1   918.0      FUNDR       Fundraising  Catered Event       NaN       N   \n",
       "2  1500.0      OTHER  Other: explntion  EVENT TICKETS       NaN       N   \n",
       "3  3200.0      CNTRB   Polit Contribs.  EVENT TICKETS       NaN       N   \n",
       "4    55.0      OTHER  Other: explntion        Flowers       NaN       N   \n",
       "\n",
       "   SEG_IND                                         Location 1  \n",
       "0  SEG_IND                                                NaN  \n",
       "1        N  New York, NY 10019\\n(40.76761164715987, -73.99...  \n",
       "2        N  New York, NY 10017\\n(40.75245652744684, -73.97...  \n",
       "3        N  New York, NY 10017\\n(40.75245652744684, -73.97...  \n",
       "4        N                                                NaN  \n",
       "\n",
       "[5 rows x 30 columns]"
      ]
     },
     "execution_count": 3,
     "metadata": {},
     "output_type": "execute_result"
    }
   ],
   "source": [
    "# 3. Read csv file\n",
    "\n",
    "# source: http://urbanprofiler.cloudapp.net/dataset/easq-ubfe/\n",
    "data_file = 'easq-ubfe/1414245731/easq-ubfe'\n",
    "\n",
    "df = pd.read_csv(os.path.join(dfdata, data_file), low_memory=False) # low_memory just suppresses an error\n",
    "\n",
    "# 4. Display top rows\n",
    "df.head()"
   ]
  },
  {
   "cell_type": "code",
   "execution_count": 4,
   "metadata": {
    "collapsed": false
   },
   "outputs": [
    {
     "data": {
      "text/html": [
       "<div>\n",
       "<table border=\"1\" class=\"dataframe\">\n",
       "  <thead>\n",
       "    <tr style=\"text-align: right;\">\n",
       "      <th></th>\n",
       "      <th>INV_DATE</th>\n",
       "      <th>AMNT</th>\n",
       "    </tr>\n",
       "  </thead>\n",
       "  <tbody>\n",
       "    <tr>\n",
       "      <th>0</th>\n",
       "      <td>2001-10-29</td>\n",
       "      <td>915.0</td>\n",
       "    </tr>\n",
       "    <tr>\n",
       "      <th>1</th>\n",
       "      <td>2001-12-05</td>\n",
       "      <td>2000.0</td>\n",
       "    </tr>\n",
       "    <tr>\n",
       "      <th>2</th>\n",
       "      <td>2001-12-17</td>\n",
       "      <td>2000.0</td>\n",
       "    </tr>\n",
       "    <tr>\n",
       "      <th>3</th>\n",
       "      <td>2001-12-18</td>\n",
       "      <td>12.0</td>\n",
       "    </tr>\n",
       "    <tr>\n",
       "      <th>4</th>\n",
       "      <td>2002-01-15</td>\n",
       "      <td>2000.0</td>\n",
       "    </tr>\n",
       "  </tbody>\n",
       "</table>\n",
       "</div>"
      ],
      "text/plain": [
       "    INV_DATE    AMNT\n",
       "0 2001-10-29   915.0\n",
       "1 2001-12-05  2000.0\n",
       "2 2001-12-17  2000.0\n",
       "3 2001-12-18    12.0\n",
       "4 2002-01-15  2000.0"
      ]
     },
     "execution_count": 4,
     "metadata": {},
     "output_type": "execute_result"
    }
   ],
   "source": [
    "# two numerical columns that we will plot against each other\n",
    "xcol, ycol = 'INV_DATE', 'AMNT'\n",
    "\n",
    "# 5. Remove all but two numerical columns\n",
    "df_plot = df.drop([\n",
    "        col for col in df.columns \n",
    "        if col not in [xcol, ycol]\n",
    "], axis=1).dropna(how='any')\n",
    "\n",
    "# Convert datetime string to actual datetime\n",
    "df_plot[xcol] = pd.to_datetime(df_plot[xcol])\n",
    "\n",
    "# Group expendatures by day\n",
    "df_plot = df_plot.groupby(pd.TimeGrouper(key=xcol, freq='1D')).sum().dropna().reset_index()\n",
    "\n",
    "# 6. Display reduced dataframe\n",
    "df_plot.head()"
   ]
  },
  {
   "cell_type": "code",
   "execution_count": 5,
   "metadata": {
    "collapsed": false,
    "scrolled": true
   },
   "outputs": [
    {
     "data": {
      "image/png": "[encoded data removed]",
      "text/plain": [
       "<matplotlib.figure.Figure at 0x7f6f893a16d8>"
      ]
     },
     "metadata": {},
     "output_type": "display_data"
    }
   ],
   "source": [
    "# 7. Plot the two numerical columns against eachother\n",
    "df_plot.plot(xcol, ycol)\n",
    "\n",
    "plt.title('Amount Spent in 2005 City Office Campaign Expenditures')\n",
    "plt.xlabel('Invoice Date')\n",
    "plt.ylabel('Amount ($)')\n",
    "plt.show()"
   ]
  },
  {
   "cell_type": "markdown",
   "metadata": {},
   "source": [
    "### Figure 1\n",
    "Amount Spent in Campaign Expenditures for candidates for City office during the 2005 election cycle."
   ]
  }
 ],
 "metadata": {
  "kernelspec": {
   "display_name": "PUI2016_Python3",
   "language": "python",
   "name": "pui2016_python3"
  },
  "language_info": {
   "codemirror_mode": {
    "name": "ipython",
    "version": 3
   },
   "file_extension": ".py",
   "mimetype": "text/x-python",
   "name": "python",
   "nbconvert_exporter": "python",
   "pygments_lexer": "ipython3",
   "version": "3.5.2"
  }
 },
 "nbformat": 4,
 "nbformat_minor": 0
}

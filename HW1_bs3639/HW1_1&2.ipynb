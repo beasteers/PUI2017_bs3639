{
 "cells": [
  {
   "cell_type": "markdown",
   "metadata": {},
   "source": [
    "# Homework 1"
   ]
  },
  {
   "cell_type": "markdown",
   "metadata": {},
   "source": [
    "## Part 1\n",
    "Finishing Lab 1\n",
    "\n",
    "See repo and commits here: https://github.com/bensteers/gittest_bs3639a\n",
    "\n",
    "Neighbor's repo: https://github.com/yixuantang/yixuantang/\n",
    "\n",
    "Forked repo: https://github.com/bensteers/yixuantang/"
   ]
  },
  {
   "cell_type": "code",
   "execution_count": null,
   "metadata": {},
   "outputs": [],
   "source": []
  },
  {
   "cell_type": "markdown",
   "metadata": {},
   "source": [
    "## Part 2\n",
    "Create environmental variables and directory aliases"
   ]
  },
  {
   "cell_type": "code",
   "execution_count": 1,
   "metadata": {},
   "outputs": [
    {
     "name": "stdout",
     "output_type": "stream",
     "text": [
      "env var PUI2017 set to: /Users/bensteers/Desktop/Storage/NYU/Fall2017/PUI/PUI2017_bs3639\n"
     ]
    }
   ],
   "source": [
    "%%bash\n",
    "echo \"env var PUI2017 set to: $PUI2017\""
   ]
  },
  {
   "cell_type": "code",
   "execution_count": 2,
   "metadata": {},
   "outputs": [
    {
     "name": "stdout",
     "output_type": "stream",
     "text": [
      "Directory before 'pui2017': /Users/bensteers\n",
      "Directory after 'pui2017': /Users/bensteers/Desktop/Storage/NYU/Fall 2017/PUI/PUI2017_bs3639\n"
     ]
    }
   ],
   "source": [
    "%%bash\n",
    "cd ~\n",
    "echo \"Directory before 'pui2017': $(pwd)\"\n",
    "\n",
    "# this alias exists in my bash_profile, but jupyter doesn't recognize aliases\n",
    "cd \"$PUI2017\" # same as: $ pui2017\n",
    "echo \"Directory after 'pui2017': $(pwd)\""
   ]
  }
 ],
 "metadata": {
  "kernelspec": {
   "display_name": "Python 3",
   "language": "python",
   "name": "python3"
  },
  "language_info": {
   "codemirror_mode": {
    "name": "ipython",
    "version": 3
   },
   "file_extension": ".py",
   "mimetype": "text/x-python",
   "name": "python",
   "nbconvert_exporter": "python",
   "pygments_lexer": "ipython3",
   "version": "3.5.2"
  }
 },
 "nbformat": 4,
 "nbformat_minor": 2
}

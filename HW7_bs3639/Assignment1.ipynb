{
 "cells": [
  {
   "cell_type": "markdown",
   "metadata": {},
   "source": [
    "# Assignment 1"
   ]
  },
  {
   "cell_type": "code",
   "execution_count": 1,
   "metadata": {},
   "outputs": [],
   "source": [
    "import pandas as pd\n",
    "import numpy as np\n",
    "import os\n",
    "import puidata as pui\n",
    "\n",
    "from scipy.stats import chi2_contingency\n",
    "\n",
    "import matplotlib\n",
    "import matplotlib.pyplot as plt\n",
    "%matplotlib inline\n",
    "matplotlib.rcParams['figure.figsize'] = 15, 6"
   ]
  },
  {
   "cell_type": "code",
   "execution_count": 2,
   "metadata": {},
   "outputs": [
    {
     "name": "stdout",
     "output_type": "stream",
     "text": [
      "Loaded from cache: /Users/bensteers/Desktop/Storage/NYU/Fall2017/PUI/data/201501-citibike-tripdata.csv\n",
      "285552 samples\n"
     ]
    },
    {
     "data": {
      "text/html": [
       "<div>\n",
       "<style>\n",
       "    .dataframe thead tr:only-child th {\n",
       "        text-align: right;\n",
       "    }\n",
       "\n",
       "    .dataframe thead th {\n",
       "        text-align: left;\n",
       "    }\n",
       "\n",
       "    .dataframe tbody tr th {\n",
       "        vertical-align: top;\n",
       "    }\n",
       "</style>\n",
       "<table border=\"1\" class=\"dataframe\">\n",
       "  <thead>\n",
       "    <tr style=\"text-align: right;\">\n",
       "      <th></th>\n",
       "      <th>tripduration</th>\n",
       "      <th>starttime</th>\n",
       "      <th>stoptime</th>\n",
       "      <th>start station id</th>\n",
       "      <th>start station name</th>\n",
       "      <th>start station latitude</th>\n",
       "      <th>start station longitude</th>\n",
       "      <th>end station id</th>\n",
       "      <th>end station name</th>\n",
       "      <th>end station latitude</th>\n",
       "      <th>end station longitude</th>\n",
       "      <th>bikeid</th>\n",
       "      <th>usertype</th>\n",
       "      <th>birth year</th>\n",
       "      <th>gender</th>\n",
       "    </tr>\n",
       "  </thead>\n",
       "  <tbody>\n",
       "    <tr>\n",
       "      <th>0</th>\n",
       "      <td>1346</td>\n",
       "      <td>1/1/2015 0:01</td>\n",
       "      <td>1/1/2015 0:24</td>\n",
       "      <td>455</td>\n",
       "      <td>1 Ave &amp; E 44 St</td>\n",
       "      <td>40.750020</td>\n",
       "      <td>-73.969053</td>\n",
       "      <td>265</td>\n",
       "      <td>Stanton St &amp; Chrystie St</td>\n",
       "      <td>40.722293</td>\n",
       "      <td>-73.991475</td>\n",
       "      <td>18660</td>\n",
       "      <td>Subscriber</td>\n",
       "      <td>1960.0</td>\n",
       "      <td>2</td>\n",
       "    </tr>\n",
       "    <tr>\n",
       "      <th>1</th>\n",
       "      <td>363</td>\n",
       "      <td>1/1/2015 0:02</td>\n",
       "      <td>1/1/2015 0:08</td>\n",
       "      <td>434</td>\n",
       "      <td>9 Ave &amp; W 18 St</td>\n",
       "      <td>40.743174</td>\n",
       "      <td>-74.003664</td>\n",
       "      <td>482</td>\n",
       "      <td>W 15 St &amp; 7 Ave</td>\n",
       "      <td>40.739355</td>\n",
       "      <td>-73.999318</td>\n",
       "      <td>16085</td>\n",
       "      <td>Subscriber</td>\n",
       "      <td>1963.0</td>\n",
       "      <td>1</td>\n",
       "    </tr>\n",
       "    <tr>\n",
       "      <th>2</th>\n",
       "      <td>346</td>\n",
       "      <td>1/1/2015 0:04</td>\n",
       "      <td>1/1/2015 0:10</td>\n",
       "      <td>491</td>\n",
       "      <td>E 24 St &amp; Park Ave S</td>\n",
       "      <td>40.740964</td>\n",
       "      <td>-73.986022</td>\n",
       "      <td>505</td>\n",
       "      <td>6 Ave &amp; W 33 St</td>\n",
       "      <td>40.749013</td>\n",
       "      <td>-73.988484</td>\n",
       "      <td>20845</td>\n",
       "      <td>Subscriber</td>\n",
       "      <td>1974.0</td>\n",
       "      <td>1</td>\n",
       "    </tr>\n",
       "    <tr>\n",
       "      <th>3</th>\n",
       "      <td>182</td>\n",
       "      <td>1/1/2015 0:04</td>\n",
       "      <td>1/1/2015 0:07</td>\n",
       "      <td>384</td>\n",
       "      <td>Fulton St &amp; Waverly Ave</td>\n",
       "      <td>40.683178</td>\n",
       "      <td>-73.965964</td>\n",
       "      <td>399</td>\n",
       "      <td>Lafayette Ave &amp; St James Pl</td>\n",
       "      <td>40.688515</td>\n",
       "      <td>-73.964763</td>\n",
       "      <td>19610</td>\n",
       "      <td>Subscriber</td>\n",
       "      <td>1969.0</td>\n",
       "      <td>1</td>\n",
       "    </tr>\n",
       "    <tr>\n",
       "      <th>4</th>\n",
       "      <td>969</td>\n",
       "      <td>1/1/2015 0:05</td>\n",
       "      <td>1/1/2015 0:21</td>\n",
       "      <td>474</td>\n",
       "      <td>5 Ave &amp; E 29 St</td>\n",
       "      <td>40.745168</td>\n",
       "      <td>-73.986831</td>\n",
       "      <td>432</td>\n",
       "      <td>E 7 St &amp; Avenue A</td>\n",
       "      <td>40.726218</td>\n",
       "      <td>-73.983799</td>\n",
       "      <td>20197</td>\n",
       "      <td>Subscriber</td>\n",
       "      <td>1977.0</td>\n",
       "      <td>1</td>\n",
       "    </tr>\n",
       "  </tbody>\n",
       "</table>\n",
       "</div>"
      ],
      "text/plain": [
       "   tripduration      starttime       stoptime  start station id  \\\n",
       "0          1346  1/1/2015 0:01  1/1/2015 0:24               455   \n",
       "1           363  1/1/2015 0:02  1/1/2015 0:08               434   \n",
       "2           346  1/1/2015 0:04  1/1/2015 0:10               491   \n",
       "3           182  1/1/2015 0:04  1/1/2015 0:07               384   \n",
       "4           969  1/1/2015 0:05  1/1/2015 0:21               474   \n",
       "\n",
       "        start station name  start station latitude  start station longitude  \\\n",
       "0          1 Ave & E 44 St               40.750020               -73.969053   \n",
       "1          9 Ave & W 18 St               40.743174               -74.003664   \n",
       "2     E 24 St & Park Ave S               40.740964               -73.986022   \n",
       "3  Fulton St & Waverly Ave               40.683178               -73.965964   \n",
       "4          5 Ave & E 29 St               40.745168               -73.986831   \n",
       "\n",
       "   end station id             end station name  end station latitude  \\\n",
       "0             265     Stanton St & Chrystie St             40.722293   \n",
       "1             482              W 15 St & 7 Ave             40.739355   \n",
       "2             505              6 Ave & W 33 St             40.749013   \n",
       "3             399  Lafayette Ave & St James Pl             40.688515   \n",
       "4             432            E 7 St & Avenue A             40.726218   \n",
       "\n",
       "   end station longitude  bikeid    usertype  birth year  gender  \n",
       "0             -73.991475   18660  Subscriber      1960.0       2  \n",
       "1             -73.999318   16085  Subscriber      1963.0       1  \n",
       "2             -73.988484   20845  Subscriber      1974.0       1  \n",
       "3             -73.964763   19610  Subscriber      1969.0       1  \n",
       "4             -73.983799   20197  Subscriber      1977.0       1  "
      ]
     },
     "execution_count": 2,
     "metadata": {},
     "output_type": "execute_result"
    }
   ],
   "source": [
    "# Settings / Constants\n",
    "datestring = '201501'\n",
    "url = 'https://s3.amazonaws.com/tripdata/{}-citibike-tripdata.zip'\n",
    "\n",
    "# Downloading data to PUIDATA\n",
    "df = pui.csvLoader.load(url=url.format(datestring), is_zip=True).df\n",
    "\n",
    "print('{} samples'.format(len(df)))\n",
    "df.head()"
   ]
  },
  {
   "cell_type": "markdown",
   "metadata": {},
   "source": [
    "# IDEA:\n",
    "### Subscribers are more likely to ride their bike during the week than customers.\n",
    "\n",
    "# NULL HYPOTHESIS:\n",
    "### The ratio of subscribers biking on weekends to weekdays is _the same_ or _higher_  than the ratio of customers  biking on weekends to weekdays.\n",
    "\n",
    "# _$H_0$_ : $\\frac{P_{cus,wkd}}{P_{cus,wk}} <= \\frac{P_{sub,wkd}}{P_{sub,wk}}$\n",
    "# _$H_A$_ : $\\frac{P_{cus,wkd}}{P_{cus,wk}} >  \\frac{P_{sub,wkd}}{P_{sub,wk}}$\n",
    "\n",
    "### I will use a significance level  $\\alpha=0.05$\n",
    "\n",
    "#### which means i want the probability of getting a result at least as significant as mine to be less then 5%"
   ]
  },
  {
   "cell_type": "code",
   "execution_count": 3,
   "metadata": {},
   "outputs": [
    {
     "data": {
      "text/html": [
       "<div>\n",
       "<style>\n",
       "    .dataframe thead tr:only-child th {\n",
       "        text-align: right;\n",
       "    }\n",
       "\n",
       "    .dataframe thead th {\n",
       "        text-align: left;\n",
       "    }\n",
       "\n",
       "    .dataframe tbody tr th {\n",
       "        vertical-align: top;\n",
       "    }\n",
       "</style>\n",
       "<table border=\"1\" class=\"dataframe\">\n",
       "  <thead>\n",
       "    <tr style=\"text-align: right;\">\n",
       "      <th></th>\n",
       "      <th>date</th>\n",
       "      <th>usertype</th>\n",
       "    </tr>\n",
       "  </thead>\n",
       "  <tbody>\n",
       "    <tr>\n",
       "      <th>0</th>\n",
       "      <td>2015-01-01 00:01:00</td>\n",
       "      <td>Subscriber</td>\n",
       "    </tr>\n",
       "    <tr>\n",
       "      <th>1</th>\n",
       "      <td>2015-01-01 00:02:00</td>\n",
       "      <td>Subscriber</td>\n",
       "    </tr>\n",
       "    <tr>\n",
       "      <th>2</th>\n",
       "      <td>2015-01-01 00:04:00</td>\n",
       "      <td>Subscriber</td>\n",
       "    </tr>\n",
       "    <tr>\n",
       "      <th>3</th>\n",
       "      <td>2015-01-01 00:04:00</td>\n",
       "      <td>Subscriber</td>\n",
       "    </tr>\n",
       "    <tr>\n",
       "      <th>4</th>\n",
       "      <td>2015-01-01 00:05:00</td>\n",
       "      <td>Subscriber</td>\n",
       "    </tr>\n",
       "  </tbody>\n",
       "</table>\n",
       "</div>"
      ],
      "text/plain": [
       "                 date    usertype\n",
       "0 2015-01-01 00:01:00  Subscriber\n",
       "1 2015-01-01 00:02:00  Subscriber\n",
       "2 2015-01-01 00:04:00  Subscriber\n",
       "3 2015-01-01 00:04:00  Subscriber\n",
       "4 2015-01-01 00:05:00  Subscriber"
      ]
     },
     "execution_count": 3,
     "metadata": {},
     "output_type": "execute_result"
    },
    {
     "data": {
      "application/javascript": [
       "$(document).ready(\n",
       "    function() {\n",
       "        function appendUniqueDiv(){\n",
       "            // append a div with our uuid so we can check that it's already\n",
       "            // been sent and avoid duplicates on page reload\n",
       "            var notifiedDiv = document.createElement(\"div\")\n",
       "            notifiedDiv.id = \"89e50fb9-428a-4058-b446-de64a7889567\"\n",
       "            element.append(notifiedDiv)\n",
       "        }\n",
       "\n",
       "        // only send notifications if the pageload is complete; this will\n",
       "        // help stop extra notifications when a saved notebook is loaded,\n",
       "        // which during testing gives us state \"interactive\", not \"complete\"\n",
       "        if (document.readyState === 'complete') {\n",
       "            // check for the div that signifies that the notification\n",
       "            // was already sent\n",
       "            if (document.getElementById(\"89e50fb9-428a-4058-b446-de64a7889567\") === null) {\n",
       "                var notificationPayload = {\"body\": \"                 date    usertype\\n0 2015-01-01 00:01:00  Subscriber\\n1 2015-01-01 00:02:00  Subscriber\\n2 2015-01-01 00:04:00  Subscriber\\n3 2015-01-01 00:04:00  Subscriber\\n4 2015-01-01 00:05:00  Subscriber\", \"requireInteraction\": false, \"icon\": \"/static/base/images/favicon.ico\", \"autonotify_after\": \"30\", \"autonotify_output\": true};\n",
       "                if (Notification.permission !== 'denied') {\n",
       "                    if (Notification.permission !== 'granted') { \n",
       "                        Notification.requestPermission(function (permission) {\n",
       "                            if(!('permission' in Notification)) {\n",
       "                                Notification.permission = permission\n",
       "                            }\n",
       "                            if (Notification.permission === 'granted') {\n",
       "                                var notification = new Notification(\"Jupyter Notebook\", notificationPayload)\n",
       "                                appendUniqueDiv()\n",
       "                            }\n",
       "                        })\n",
       "                    } else if (Notification.permission === 'granted') {\n",
       "                        var notification = new Notification(\"Jupyter Notebook\", notificationPayload)\n",
       "                        appendUniqueDiv()\n",
       "                    }\n",
       "                }\n",
       "            }\n",
       "        }\n",
       "    }\n",
       ")\n"
      ],
      "text/plain": [
       "<IPython.core.display.Javascript object>"
      ]
     },
     "metadata": {},
     "output_type": "display_data"
    }
   ],
   "source": [
    "# Drop any missing values\n",
    "data = df.dropna(subset=['usertype', 'starttime']).copy()\n",
    "\n",
    "# Use starttime as the date\n",
    "data['date'] = pd.to_datetime(data['starttime'])\n",
    "\n",
    "# Strip out unrelevant columns\n",
    "data = data[['date', 'usertype']]\n",
    "\n",
    "data.head()"
   ]
  },
  {
   "cell_type": "code",
   "execution_count": 4,
   "metadata": {},
   "outputs": [
    {
     "data": {
      "text/html": [
       "<div>\n",
       "<style>\n",
       "    .dataframe thead tr:only-child th {\n",
       "        text-align: right;\n",
       "    }\n",
       "\n",
       "    .dataframe thead th {\n",
       "        text-align: left;\n",
       "    }\n",
       "\n",
       "    .dataframe tbody tr th {\n",
       "        vertical-align: top;\n",
       "    }\n",
       "</style>\n",
       "<table border=\"1\" class=\"dataframe\">\n",
       "  <thead>\n",
       "    <tr style=\"text-align: right;\">\n",
       "      <th></th>\n",
       "      <th>Customers</th>\n",
       "      <th>Subscribers</th>\n",
       "    </tr>\n",
       "    <tr>\n",
       "      <th>date</th>\n",
       "      <th></th>\n",
       "      <th></th>\n",
       "    </tr>\n",
       "  </thead>\n",
       "  <tbody>\n",
       "    <tr>\n",
       "      <th>Mon</th>\n",
       "      <td>633</td>\n",
       "      <td>37369</td>\n",
       "    </tr>\n",
       "    <tr>\n",
       "      <th>Tue</th>\n",
       "      <td>369</td>\n",
       "      <td>38510</td>\n",
       "    </tr>\n",
       "    <tr>\n",
       "      <th>Wed</th>\n",
       "      <td>342</td>\n",
       "      <td>43025</td>\n",
       "    </tr>\n",
       "    <tr>\n",
       "      <th>Thu</th>\n",
       "      <td>1177</td>\n",
       "      <td>51728</td>\n",
       "    </tr>\n",
       "    <tr>\n",
       "      <th>Fri</th>\n",
       "      <td>1290</td>\n",
       "      <td>56539</td>\n",
       "    </tr>\n",
       "    <tr>\n",
       "      <th>Sat</th>\n",
       "      <td>800</td>\n",
       "      <td>27280</td>\n",
       "    </tr>\n",
       "    <tr>\n",
       "      <th>Sun</th>\n",
       "      <td>1017</td>\n",
       "      <td>25473</td>\n",
       "    </tr>\n",
       "  </tbody>\n",
       "</table>\n",
       "</div>"
      ],
      "text/plain": [
       "      Customers  Subscribers\n",
       "date                        \n",
       "Mon         633        37369\n",
       "Tue         369        38510\n",
       "Wed         342        43025\n",
       "Thu        1177        51728\n",
       "Fri        1290        56539\n",
       "Sat         800        27280\n",
       "Sun        1017        25473"
      ]
     },
     "execution_count": 4,
     "metadata": {},
     "output_type": "execute_result"
    }
   ],
   "source": [
    "# Get weekday counts\n",
    "count_c = data.date[data['usertype'] == 'Customer'].groupby([data.date.dt.weekday]).count()\n",
    "count_s = data.date[data['usertype'] == 'Subscriber'].groupby([data.date.dt.weekday]).count()\n",
    "\n",
    "# Replace numerical weekdays with weekday names\n",
    "daysofweek = dict(enumerate(['Mon', 'Tue', 'Wed', 'Thu', 'Fri', 'Sat', 'Sun']))\n",
    "count_c.index = count_c.index.to_series().map(daysofweek)\n",
    "count_s.index = count_s.index.to_series().map(daysofweek)\n",
    "\n",
    "# Display data\n",
    "pd.DataFrame({\n",
    "    'Customers': count_c,\n",
    "    'Subscribers': count_s\n",
    "})"
   ]
  },
  {
   "cell_type": "code",
   "execution_count": 5,
   "metadata": {},
   "outputs": [
    {
     "data": {
      "image/png": "[encoded data removed]",
      "text/plain": [
       "<matplotlib.figure.Figure at 0x11dcfbb10>"
      ]
     },
     "metadata": {},
     "output_type": "display_data"
    }
   ],
   "source": [
    "_width = 0.4\n",
    "\n",
    "# Plot overall counts\n",
    "plt.subplot(1,2,1)\n",
    "count_c.plot(kind=\"bar\", color='IndianRed', label='Customer', width=_width)\n",
    "plt.title('Distribution of Citi Bike usage for Customers')\n",
    "plt.xlabel('Day of Week')\n",
    "plt.ylabel('N')\n",
    "plt.legend()\n",
    "\n",
    "plt.subplot(1,2,2)\n",
    "count_s.plot(kind=\"bar\", color='SteelBlue', label='Subscriber', width=_width)\n",
    "plt.title('Distribution of Citi Bike usage for Subscribers')\n",
    "plt.xlabel('Day of Week')\n",
    "plt.ylabel('N')\n",
    "plt.legend();"
   ]
  },
  {
   "cell_type": "markdown",
   "metadata": {},
   "source": [
    "### Figure 1a. Distribution of Citibike users by user type in 01/2015, absolute counts\n",
    "This plot shows the relative number of Citibike users over the course of the week for both customers and subscribers. Subscribers show a large relative dip over the weekend, while customers show a dip at the beginning/middle of the week. Both customers and subscribers have a peak on Thursday and Friday, implying that Citibike usage on those days are most likely influenced by a factor other than subscription status."
   ]
  },
  {
   "cell_type": "code",
   "execution_count": 6,
   "metadata": {},
   "outputs": [
    {
     "data": {
      "image/png": "[encoded data removed]",
      "text/plain": [
       "<matplotlib.figure.Figure at 0x11932de90>"
      ]
     },
     "metadata": {},
     "output_type": "display_data"
    }
   ],
   "source": [
    "plt.subplot(1,2,1)\n",
    "count_c.plot(kind=\"bar\",color='IndianRed', width=_width, label='Customer',\n",
    "                         yerr=[ [np.sqrt(count_c)]*2 ])\n",
    "plt.title('Distribution of Citi Bike usage for Customers')\n",
    "plt.xlabel('Day of Week')\n",
    "plt.ylabel('N')\n",
    "plt.legend()\n",
    "\n",
    "plt.subplot(1,2,2)\n",
    "count_s.plot(kind=\"bar\",color='SteelBlue', width=_width, label='Subscriber',\n",
    "                         yerr=[[np.sqrt(count_s)]*2])\n",
    "plt.title('Distribution of Citi Bike usage for Subscribers')\n",
    "plt.xlabel('Day of Week')\n",
    "plt.ylabel('N')\n",
    "plt.legend();"
   ]
  },
  {
   "cell_type": "markdown",
   "metadata": {},
   "source": [
    "### Figure 1b. Distribution of Citi Biky users by day of the week and user type in 01/2015, absolute counts, with statistical errors\n",
    "This plot shows the same information as Figure 1a, with statistical error bars added. The error bars look disproportionate because the overall magnitude of counts differs between the two user types."
   ]
  },
  {
   "cell_type": "code",
   "execution_count": 7,
   "metadata": {},
   "outputs": [
    {
     "data": {
      "image/png": "[encoded data removed]",
      "text/plain": [
       "<matplotlib.figure.Figure at 0x1077f9a90>"
      ]
     },
     "metadata": {},
     "output_type": "display_data"
    }
   ],
   "source": [
    "norm_c, norm_s = count_c.sum(), count_s.sum()\n",
    "\n",
    "(count_c / norm_c).plot(kind=\"bar\",color='IndianRed', position=0, width=_width,\n",
    "                         yerr=[ [np.sqrt(count_c) / norm_c]*2 ], label='Customer')\n",
    "(count_s / norm_s).plot(kind=\"bar\",color='SteelBlue', position=1, width=_width,\n",
    "                         yerr=[ [np.sqrt(count_s) / norm_s]*2 ], label='Subscriber')\n",
    "plt.title('Normalized distribution of Citi Bike usage by user type')\n",
    "plt.xlabel('Day of Week')\n",
    "plt.ylabel('N')\n",
    "plt.legend();"
   ]
  },
  {
   "cell_type": "markdown",
   "metadata": {},
   "source": [
    "### Figure 2. Distribution of Citi Biky users by day of the week and user type in 01/2015, normalized\n",
    "This plot shows the same information as Figures 1a and 1b, except the counts are normalized by their overall count. This shows how the distribution of Citibike users compare side by side over the course of a week. This shows that proportionally, subscribers bike more at the beginning of the week and customers tend to use Citibike towards the end of the week."
   ]
  },
  {
   "cell_type": "code",
   "execution_count": 8,
   "metadata": {},
   "outputs": [
    {
     "name": "stdout",
     "output_type": "stream",
     "text": [
      "Subscribers: week:0.812, weekend:0.188, weekend error:0.002, weekend error:0.001\n",
      "Customers: week:0.677, weekend:0.323, weekend error:0.011, weekend error:0.008\n"
     ]
    },
    {
     "data": {
      "image/png": "[encoded data removed]",
      "text/plain": [
       "<matplotlib.figure.Figure at 0x119681f50>"
      ]
     },
     "metadata": {},
     "output_type": "display_data"
    }
   ],
   "source": [
    "fig = plt.figure(figsize=(15,6))\n",
    "ax1 = fig.add_subplot(121)\n",
    "ax2 = fig.add_subplot(122)\n",
    "\n",
    "week_c = sum(count_c[:-2]) * 1.0 / norm_c  #fraction of customers riding on week days\n",
    "weekend_c = sum(count_c[-2:]) * 1.0 / norm_c  #fraction of customers riding on weekends\n",
    "eweek_c = np.sqrt(sum(count_c[:-2])) / norm_c  #error on week_c (sum squared errors where errors are poisson)\n",
    "eweekend_c = np.sqrt(sum(count_c[-2:])) / norm_c #error on weekend_c\n",
    "\n",
    "#same nomenclature as above for subscribers\n",
    "week_s = sum(count_s[:-2]) * 1. / norm_s\n",
    "weekend_s = sum(count_s[-2:]) * 1. / norm_s\n",
    "eweek_s = np.sqrt(sum(count_s[:-2])) / norm_s\n",
    "eweekend_s = np.sqrt(sum(count_s[-2:])) / norm_s\n",
    "\n",
    "print(\"Subscribers: week:{0:.3f}, weekend:{1:.3f}, weekend error:{2:.3f}, weekend error:{3:.3f}\"\\\n",
    "      .format(week_s, weekend_s, eweek_s, eweekend_s))\n",
    "print(\"Customers: week:{0:.3f}, weekend:{1:.3f}, weekend error:{2:.3f}, weekend error:{3:.3f}\"\\\n",
    "      .format(week_c, weekend_c, eweek_c, eweekend_c))\n",
    "\n",
    "ax1.errorbar([0], [week_s], yerr=[eweek_s], fmt='o', label='subscribers')\n",
    "ax1.errorbar([1], [week_c], yerr=[eweek_c], fmt='o', label='customers')\n",
    "ax2.errorbar([0], [weekend_s], yerr=[eweekend_s], fmt='o', label='subscribers')\n",
    "ax2.errorbar([1], [weekend_c], yerr=[eweekend_c], fmt='o', label='customers')\n",
    "ax1.set_xlim(-1, 2)\n",
    "ax2.set_xlim(-1, 2)\n",
    "ax1.set_xticks([0, 1])\n",
    "ax2.set_xticks([0, 1])\n",
    "ax1.set_xticklabels(['subscribers', 'customers'])\n",
    "ax2.set_xticklabels(['subscribers', 'customers'])\n",
    "ax1.set_title(\"week days\")\n",
    "ax2.set_title(\"weekends\")\n",
    "ax1.set_ylabel(\"Fraction of normalized rides by user type\")\n",
    "ax2.set_ylabel(\"Fraction of normalized rides by user type\");"
   ]
  },
  {
   "cell_type": "markdown",
   "metadata": {},
   "source": [
    "### Figure 3: The fraction of rides by user type for the week and the weekend, normalized\n",
    "This plot shows the comparison of normalized counts for user type over the week and the weekend respectively. This plot makes it clear that the distribution of subscribers is weighted towards the week and the distribution of customers is weighted towards the weekend."
   ]
  },
  {
   "cell_type": "markdown",
   "metadata": {},
   "source": [
    "### Checking the null hypothesis\n",
    "\n",
    "#### _$H_0$_ : $\\frac{P_{cus,wkd}}{P_{cus,wk}} <= \\frac{P_{sub,wkd}}{P_{sub,wk}}$"
   ]
  },
  {
   "cell_type": "code",
   "execution_count": 9,
   "metadata": {},
   "outputs": [
    {
     "name": "stdout",
     "output_type": "stream",
     "text": [
      "difference between customers and subscribers weekend to week ratio: 0.2446\n",
      "We must check the significance before we reject the Null Hypothesis\n"
     ]
    }
   ],
   "source": [
    "P0mP1 = weekend_c / week_c - weekend_s / week_s\n",
    "print (\"difference between customers and subscribers weekend to week ratio: {:.4f}\".format(P0mP1))\n",
    "if P0mP1 <= 0:\n",
    "    # we are done...\n",
    "    print(\"In accordance with Null Hypothesis\")\n",
    "else:\n",
    "    # morework to do\n",
    "    print (\"We must check the significance before we reject the Null Hypothesis\")"
   ]
  },
  {
   "cell_type": "markdown",
   "metadata": {},
   "source": [
    "### Is this difference statistically different?"
   ]
  },
  {
   "cell_type": "code",
   "execution_count": 10,
   "metadata": {},
   "outputs": [
    {
     "name": "stdout",
     "output_type": "stream",
     "text": [
      "chi-squared: 1.969, p-value: 0.160583981585\n"
     ]
    },
    {
     "data": {
      "text/html": [
       "<div>\n",
       "<style>\n",
       "    .dataframe thead tr:only-child th {\n",
       "        text-align: right;\n",
       "    }\n",
       "\n",
       "    .dataframe thead th {\n",
       "        text-align: left;\n",
       "    }\n",
       "\n",
       "    .dataframe tbody tr th {\n",
       "        vertical-align: top;\n",
       "    }\n",
       "</style>\n",
       "<table border=\"1\" class=\"dataframe\">\n",
       "  <thead>\n",
       "    <tr style=\"text-align: right;\">\n",
       "      <th></th>\n",
       "      <th>Customers</th>\n",
       "      <th>Subscribers</th>\n",
       "    </tr>\n",
       "  </thead>\n",
       "  <tbody>\n",
       "    <tr>\n",
       "      <th>Week</th>\n",
       "      <td>0.67715</td>\n",
       "      <td>0.811545</td>\n",
       "    </tr>\n",
       "    <tr>\n",
       "      <th>Weekend</th>\n",
       "      <td>0.32285</td>\n",
       "      <td>0.188455</td>\n",
       "    </tr>\n",
       "  </tbody>\n",
       "</table>\n",
       "</div>"
      ],
      "text/plain": [
       "         Customers  Subscribers\n",
       "Week       0.67715     0.811545\n",
       "Weekend    0.32285     0.188455"
      ]
     },
     "execution_count": 10,
     "metadata": {},
     "output_type": "execute_result"
    }
   ],
   "source": [
    "contingency_table_a = pd.DataFrame([\n",
    "    [week_c, week_s],\n",
    "    [weekend_c, weekend_s]\n",
    "], columns=['Customers', 'Subscribers'], index=['Week', 'Weekend'])\n",
    "\n",
    "print('chi-squared: {:.3f}, p-value: {}'.format(*chi2_contingency(contingency_table.values)[:2]))\n",
    "contingency_table"
   ]
  },
  {
   "cell_type": "markdown",
   "metadata": {},
   "source": [
    "#### The p-value returned by the chi-squared test was not below the significance threshold of 0.05, meaning that the null hypothesis cannot be rejected."
   ]
  },
  {
   "cell_type": "markdown",
   "metadata": {},
   "source": [
    "# Testing on another month"
   ]
  },
  {
   "cell_type": "code",
   "execution_count": 11,
   "metadata": {},
   "outputs": [
    {
     "name": "stdout",
     "output_type": "stream",
     "text": [
      "Loaded from cache: /Users/bensteers/Desktop/Storage/NYU/Fall2017/PUI/data/201505-citibike-tripdata.csv\n",
      "Loaded from cache: /Users/bensteers/Desktop/Storage/NYU/Fall2017/PUI/data/201506-citibike-tripdata.csv\n",
      "Loaded from cache: /Users/bensteers/Desktop/Storage/NYU/Fall2017/PUI/data/201507-citibike-tripdata.csv\n",
      "Loaded from cache: /Users/bensteers/Desktop/Storage/NYU/Fall2017/PUI/data/201508-citibike-tripdata.csv\n",
      "4167925 samples\n"
     ]
    },
    {
     "data": {
      "text/html": [
       "<div>\n",
       "<style>\n",
       "    .dataframe thead tr:only-child th {\n",
       "        text-align: right;\n",
       "    }\n",
       "\n",
       "    .dataframe thead th {\n",
       "        text-align: left;\n",
       "    }\n",
       "\n",
       "    .dataframe tbody tr th {\n",
       "        vertical-align: top;\n",
       "    }\n",
       "</style>\n",
       "<table border=\"1\" class=\"dataframe\">\n",
       "  <thead>\n",
       "    <tr style=\"text-align: right;\">\n",
       "      <th></th>\n",
       "      <th>tripduration</th>\n",
       "      <th>starttime</th>\n",
       "      <th>stoptime</th>\n",
       "      <th>start station id</th>\n",
       "      <th>start station name</th>\n",
       "      <th>start station latitude</th>\n",
       "      <th>start station longitude</th>\n",
       "      <th>end station id</th>\n",
       "      <th>end station name</th>\n",
       "      <th>end station latitude</th>\n",
       "      <th>end station longitude</th>\n",
       "      <th>bikeid</th>\n",
       "      <th>usertype</th>\n",
       "      <th>birth year</th>\n",
       "      <th>gender</th>\n",
       "    </tr>\n",
       "  </thead>\n",
       "  <tbody>\n",
       "    <tr>\n",
       "      <th>0</th>\n",
       "      <td>415</td>\n",
       "      <td>5/1/2015 00:00:11</td>\n",
       "      <td>5/1/2015 00:07:06</td>\n",
       "      <td>477</td>\n",
       "      <td>W 41 St &amp; 8 Ave</td>\n",
       "      <td>40.756405</td>\n",
       "      <td>-73.990026</td>\n",
       "      <td>442</td>\n",
       "      <td>W 27 St &amp; 7 Ave</td>\n",
       "      <td>40.746647</td>\n",
       "      <td>-73.993915</td>\n",
       "      <td>17012</td>\n",
       "      <td>Subscriber</td>\n",
       "      <td>1981.0</td>\n",
       "      <td>1</td>\n",
       "    </tr>\n",
       "    <tr>\n",
       "      <th>1</th>\n",
       "      <td>1523</td>\n",
       "      <td>5/1/2015 00:00:28</td>\n",
       "      <td>5/1/2015 00:25:52</td>\n",
       "      <td>293</td>\n",
       "      <td>Lafayette St &amp; E 8 St</td>\n",
       "      <td>40.730287</td>\n",
       "      <td>-73.990765</td>\n",
       "      <td>324</td>\n",
       "      <td>DeKalb Ave &amp; Hudson Ave</td>\n",
       "      <td>40.689888</td>\n",
       "      <td>-73.981013</td>\n",
       "      <td>17390</td>\n",
       "      <td>Customer</td>\n",
       "      <td>NaN</td>\n",
       "      <td>0</td>\n",
       "    </tr>\n",
       "    <tr>\n",
       "      <th>2</th>\n",
       "      <td>642</td>\n",
       "      <td>5/1/2015 00:00:52</td>\n",
       "      <td>5/1/2015 00:11:35</td>\n",
       "      <td>380</td>\n",
       "      <td>W 4 St &amp; 7 Ave S</td>\n",
       "      <td>40.734011</td>\n",
       "      <td>-74.002939</td>\n",
       "      <td>507</td>\n",
       "      <td>E 25 St &amp; 2 Ave</td>\n",
       "      <td>40.739126</td>\n",
       "      <td>-73.979738</td>\n",
       "      <td>15003</td>\n",
       "      <td>Subscriber</td>\n",
       "      <td>1990.0</td>\n",
       "      <td>1</td>\n",
       "    </tr>\n",
       "    <tr>\n",
       "      <th>3</th>\n",
       "      <td>367</td>\n",
       "      <td>5/1/2015 00:00:48</td>\n",
       "      <td>5/1/2015 00:06:55</td>\n",
       "      <td>537</td>\n",
       "      <td>Lexington Ave &amp; E 24 St</td>\n",
       "      <td>40.740259</td>\n",
       "      <td>-73.984092</td>\n",
       "      <td>280</td>\n",
       "      <td>E 10 St &amp; 5 Ave</td>\n",
       "      <td>40.733320</td>\n",
       "      <td>-73.995101</td>\n",
       "      <td>14788</td>\n",
       "      <td>Subscriber</td>\n",
       "      <td>1978.0</td>\n",
       "      <td>1</td>\n",
       "    </tr>\n",
       "    <tr>\n",
       "      <th>4</th>\n",
       "      <td>2734</td>\n",
       "      <td>5/1/2015 00:00:51</td>\n",
       "      <td>5/1/2015 00:46:26</td>\n",
       "      <td>426</td>\n",
       "      <td>West St &amp; Chambers St</td>\n",
       "      <td>40.717548</td>\n",
       "      <td>-74.013221</td>\n",
       "      <td>327</td>\n",
       "      <td>Vesey Pl &amp; River Terrace</td>\n",
       "      <td>40.715338</td>\n",
       "      <td>-74.016584</td>\n",
       "      <td>21068</td>\n",
       "      <td>Subscriber</td>\n",
       "      <td>1956.0</td>\n",
       "      <td>2</td>\n",
       "    </tr>\n",
       "  </tbody>\n",
       "</table>\n",
       "</div>"
      ],
      "text/plain": [
       "   tripduration          starttime           stoptime  start station id  \\\n",
       "0           415  5/1/2015 00:00:11  5/1/2015 00:07:06               477   \n",
       "1          1523  5/1/2015 00:00:28  5/1/2015 00:25:52               293   \n",
       "2           642  5/1/2015 00:00:52  5/1/2015 00:11:35               380   \n",
       "3           367  5/1/2015 00:00:48  5/1/2015 00:06:55               537   \n",
       "4          2734  5/1/2015 00:00:51  5/1/2015 00:46:26               426   \n",
       "\n",
       "        start station name  start station latitude  start station longitude  \\\n",
       "0          W 41 St & 8 Ave               40.756405               -73.990026   \n",
       "1    Lafayette St & E 8 St               40.730287               -73.990765   \n",
       "2         W 4 St & 7 Ave S               40.734011               -74.002939   \n",
       "3  Lexington Ave & E 24 St               40.740259               -73.984092   \n",
       "4    West St & Chambers St               40.717548               -74.013221   \n",
       "\n",
       "   end station id          end station name  end station latitude  \\\n",
       "0             442           W 27 St & 7 Ave             40.746647   \n",
       "1             324   DeKalb Ave & Hudson Ave             40.689888   \n",
       "2             507           E 25 St & 2 Ave             40.739126   \n",
       "3             280           E 10 St & 5 Ave             40.733320   \n",
       "4             327  Vesey Pl & River Terrace             40.715338   \n",
       "\n",
       "   end station longitude  bikeid    usertype  birth year  gender  \n",
       "0             -73.993915   17012  Subscriber      1981.0       1  \n",
       "1             -73.981013   17390    Customer         NaN       0  \n",
       "2             -73.979738   15003  Subscriber      1990.0       1  \n",
       "3             -73.995101   14788  Subscriber      1978.0       1  \n",
       "4             -74.016584   21068  Subscriber      1956.0       2  "
      ]
     },
     "execution_count": 11,
     "metadata": {},
     "output_type": "execute_result"
    }
   ],
   "source": [
    "# Settings / Constants\n",
    "datestrings = ['201505', '201506', '201507', '201508']\n",
    "\n",
    "# Downloading data to PUIDATA\n",
    "df = pd.concat([\n",
    "    pui.csvLoader.load(url=url.format(datestring), is_zip=True).df\n",
    "    for datestring in datestrings\n",
    "]).reset_index(drop=True)\n",
    "\n",
    "print('{} samples'.format(len(df)))\n",
    "df.head()"
   ]
  },
  {
   "cell_type": "code",
   "execution_count": 20,
   "metadata": {},
   "outputs": [
    {
     "data": {
      "text/html": [
       "<div>\n",
       "<style>\n",
       "    .dataframe thead tr:only-child th {\n",
       "        text-align: right;\n",
       "    }\n",
       "\n",
       "    .dataframe thead th {\n",
       "        text-align: left;\n",
       "    }\n",
       "\n",
       "    .dataframe tbody tr th {\n",
       "        vertical-align: top;\n",
       "    }\n",
       "</style>\n",
       "<table border=\"1\" class=\"dataframe\">\n",
       "  <thead>\n",
       "    <tr style=\"text-align: right;\">\n",
       "      <th></th>\n",
       "      <th>Customers</th>\n",
       "      <th>Subscribers</th>\n",
       "    </tr>\n",
       "    <tr>\n",
       "      <th>date</th>\n",
       "      <th></th>\n",
       "      <th></th>\n",
       "    </tr>\n",
       "  </thead>\n",
       "  <tbody>\n",
       "    <tr>\n",
       "      <th>Mon</th>\n",
       "      <td>84517</td>\n",
       "      <td>531964</td>\n",
       "    </tr>\n",
       "    <tr>\n",
       "      <th>Tue</th>\n",
       "      <td>63406</td>\n",
       "      <td>523428</td>\n",
       "    </tr>\n",
       "    <tr>\n",
       "      <th>Wed</th>\n",
       "      <td>68404</td>\n",
       "      <td>573061</td>\n",
       "    </tr>\n",
       "    <tr>\n",
       "      <th>Thu</th>\n",
       "      <td>76403</td>\n",
       "      <td>561891</td>\n",
       "    </tr>\n",
       "    <tr>\n",
       "      <th>Fri</th>\n",
       "      <td>93908</td>\n",
       "      <td>560094</td>\n",
       "    </tr>\n",
       "    <tr>\n",
       "      <th>Sat</th>\n",
       "      <td>158885</td>\n",
       "      <td>359820</td>\n",
       "    </tr>\n",
       "    <tr>\n",
       "      <th>Sun</th>\n",
       "      <td>153760</td>\n",
       "      <td>358384</td>\n",
       "    </tr>\n",
       "  </tbody>\n",
       "</table>\n",
       "</div>"
      ],
      "text/plain": [
       "      Customers  Subscribers\n",
       "date                        \n",
       "Mon       84517       531964\n",
       "Tue       63406       523428\n",
       "Wed       68404       573061\n",
       "Thu       76403       561891\n",
       "Fri       93908       560094\n",
       "Sat      158885       359820\n",
       "Sun      153760       358384"
      ]
     },
     "execution_count": 20,
     "metadata": {},
     "output_type": "execute_result"
    }
   ],
   "source": [
    "# Drop any missing values\n",
    "data = df.dropna(subset=['usertype', 'starttime']).copy()\n",
    "\n",
    "# Use starttime as the date\n",
    "data['date'] = pd.to_datetime(data['starttime'])\n",
    "\n",
    "# Strip out unrelevant columns\n",
    "data = data[['date', 'usertype']]\n",
    "\n",
    "# Get weekday counts\n",
    "count_c = data.date[data['usertype'] == 'Customer'].groupby([data.date.dt.weekday]).count()\n",
    "count_s = data.date[data['usertype'] == 'Subscriber'].groupby([data.date.dt.weekday]).count()\n",
    "\n",
    "# Replace numerical weekdays with weekday names\n",
    "daysofweek = dict(enumerate(['Mon', 'Tue', 'Wed', 'Thu', 'Fri', 'Sat', 'Sun']))\n",
    "count_c.index = count_c.index.to_series().map(daysofweek)\n",
    "count_s.index = count_s.index.to_series().map(daysofweek)\n",
    "\n",
    "# Display data\n",
    "df_tmp = pd.DataFrame({\n",
    "    'Customers': count_c,\n",
    "    'Subscribers': count_s\n",
    "})\n",
    "\n",
    "# caching\n",
    "pui.csvLoader(filename='puihw7a1_week_counts.csv').set_df(df_tmp).save_cache()\n",
    "# df_tmp = pui.csvLoader.load(filename='puihw7a1_week_counts.csv').df\n",
    "# count_c, count_s = df_tmp['Customers'], df_tmp['Subscribers']\n",
    "df_tmp"
   ]
  },
  {
   "cell_type": "code",
   "execution_count": 13,
   "metadata": {},
   "outputs": [
    {
     "data": {
      "image/png": "[encoded data removed]",
      "text/plain": [
       "<matplotlib.figure.Figure at 0x153203b90>"
      ]
     },
     "metadata": {},
     "output_type": "display_data"
    }
   ],
   "source": [
    "# Plot overall counts\n",
    "plt.subplot(1,2,1)\n",
    "count_c.plot(kind=\"bar\", color='IndianRed', label='Customer', width=_width)\n",
    "plt.title('Distribution of Citi Bike usage for Customers')\n",
    "plt.xlabel('Day of Week')\n",
    "plt.ylabel('N')\n",
    "plt.legend()\n",
    "\n",
    "plt.subplot(1,2,2)\n",
    "count_s.plot(kind=\"bar\", color='SteelBlue', label='Subscriber', width=_width)\n",
    "plt.title('Distribution of Citi Bike usage for Subscribers')\n",
    "plt.xlabel('Day of Week')\n",
    "plt.ylabel('N')\n",
    "plt.legend();"
   ]
  },
  {
   "cell_type": "markdown",
   "metadata": {},
   "source": [
    "### Figure 4a: Distribution of Citibike users by user type in for May to August 2015, absolute counts\n",
    "This plot shows the relative number of Citibike users over the course of the week for both customers and subscribers. Subscribers show a large relative dip over the weekend, while customers show a dip at the beginning/middle of the week. Both customers and subscribers have a peak on Thursday and Friday, implying that Citibike usage on those days are most likely influenced by a factor other than subscription status."
   ]
  },
  {
   "cell_type": "code",
   "execution_count": 14,
   "metadata": {},
   "outputs": [
    {
     "data": {
      "image/png": "[encoded data removed]",
      "text/plain": [
       "<matplotlib.figure.Figure at 0x1532023d0>"
      ]
     },
     "metadata": {},
     "output_type": "display_data"
    }
   ],
   "source": [
    "plt.subplot(1,2,1)\n",
    "count_c.plot(kind=\"bar\",color='IndianRed', width=_width, label='Customer',\n",
    "                         yerr=[ [np.sqrt(count_c)]*2 ])\n",
    "plt.title('Distribution of Citi Bike usage for Customers')\n",
    "plt.xlabel('Day of Week')\n",
    "plt.ylabel('N')\n",
    "plt.legend()\n",
    "\n",
    "plt.subplot(1,2,2)\n",
    "count_s.plot(kind=\"bar\",color='SteelBlue', width=_width, label='Subscriber',\n",
    "                         yerr=[[np.sqrt(count_s)]*2])\n",
    "plt.title('Distribution of Citi Bike usage for Subscribers')\n",
    "plt.xlabel('Day of Week')\n",
    "plt.ylabel('N')\n",
    "plt.legend();"
   ]
  },
  {
   "cell_type": "markdown",
   "metadata": {},
   "source": [
    "### Figure 4b: The same as Figure 1b, using 4 months of data."
   ]
  },
  {
   "cell_type": "code",
   "execution_count": 15,
   "metadata": {},
   "outputs": [
    {
     "data": {
      "image/png": "[encoded data removed]",
      "text/plain": [
       "<matplotlib.figure.Figure at 0x153202490>"
      ]
     },
     "metadata": {},
     "output_type": "display_data"
    }
   ],
   "source": [
    "norm_c, norm_s = count_c.sum(), count_s.sum()\n",
    "\n",
    "(count_c / norm_c).plot(kind=\"bar\",color='IndianRed', position=0, width=_width,\n",
    "                         yerr=[ [np.sqrt(count_c) / norm_c]*2 ], label='Customer')\n",
    "(count_s / norm_s).plot(kind=\"bar\",color='SteelBlue', position=1, width=_width,\n",
    "                         yerr=[ [np.sqrt(count_s) / norm_s]*2 ], label='Subscriber')\n",
    "plt.title('Normalized distribution of Citi Bike usage by user type')\n",
    "plt.xlabel('Day of Week')\n",
    "plt.ylabel('N')\n",
    "plt.legend();"
   ]
  },
  {
   "cell_type": "markdown",
   "metadata": {},
   "source": [
    "### Figure 4b: The same as Figure 2, using 4 months of data."
   ]
  },
  {
   "cell_type": "code",
   "execution_count": 16,
   "metadata": {},
   "outputs": [
    {
     "name": "stdout",
     "output_type": "stream",
     "text": [
      "Subscribers: week:0.793, weekend:0.207, weekend error:0.000, weekend error:0.000\n",
      "Customers: week:0.553, weekend:0.447, weekend error:0.001, weekend error:0.001\n"
     ]
    },
    {
     "data": {
      "image/png": "[encoded data removed]",
      "text/plain": [
       "<matplotlib.figure.Figure at 0x11a23b6d0>"
      ]
     },
     "metadata": {},
     "output_type": "display_data"
    }
   ],
   "source": [
    "fig = plt.figure(figsize=(15,6))\n",
    "ax1 = fig.add_subplot(121)\n",
    "ax2 = fig.add_subplot(122)\n",
    "\n",
    "week_c = sum(count_c[:-2]) * 1.0 / norm_c  #fraction of customers riding on week days\n",
    "weekend_c = sum(count_c[-2:]) * 1.0 / norm_c  #fraction of customers riding on weekends\n",
    "eweek_c = np.sqrt(sum(count_c[:-2])) / norm_c  #error on week_c (sum squared errors where errors are poisson)\n",
    "eweekend_c = np.sqrt(sum(count_c[-2:])) / norm_c #error on weekend_c\n",
    "\n",
    "#same nomenclature as above for subscribers\n",
    "week_s = sum(count_s[:-2]) * 1. / norm_s\n",
    "weekend_s = sum(count_s[-2:]) * 1. / norm_s\n",
    "eweek_s = np.sqrt(sum(count_s[:-2])) / norm_s\n",
    "eweekend_s = np.sqrt(sum(count_s[-2:])) / norm_s\n",
    "\n",
    "print(\"Subscribers: week:{0:.3f}, weekend:{1:.3f}, weekend error:{2:.3f}, weekend error:{3:.3f}\"\\\n",
    "      .format(week_s, weekend_s, eweek_s, eweekend_s))\n",
    "print(\"Customers: week:{0:.3f}, weekend:{1:.3f}, weekend error:{2:.3f}, weekend error:{3:.3f}\"\\\n",
    "      .format(week_c, weekend_c, eweek_c, eweekend_c))\n",
    "\n",
    "ax1.errorbar([0], [week_s], yerr=[eweek_s], fmt='o', label='subscribers')\n",
    "ax1.errorbar([1], [week_c], yerr=[eweek_c], fmt='o', label='customers')\n",
    "ax2.errorbar([0], [weekend_s], yerr=[eweekend_s], fmt='o', label='subscribers')\n",
    "ax2.errorbar([1], [weekend_c], yerr=[eweekend_c], fmt='o', label='customers')\n",
    "ax1.set_xlim(-1, 2)\n",
    "ax2.set_xlim(-1, 2)\n",
    "ax1.set_xticks([0, 1])\n",
    "ax2.set_xticks([0, 1])\n",
    "ax1.set_xticklabels(['subscribers', 'customers'])\n",
    "ax2.set_xticklabels(['subscribers', 'customers'])\n",
    "ax1.set_title(\"week days\")\n",
    "ax2.set_title(\"weekends\")\n",
    "ax1.set_ylabel(\"Fraction of normalized rides by user type\")\n",
    "ax2.set_ylabel(\"Fraction of normalized rides by user type\");"
   ]
  },
  {
   "cell_type": "markdown",
   "metadata": {},
   "source": [
    "### Checking the null hypothesis\n",
    "\n",
    "#### _$H_0$_ : $\\frac{P_{cus,wkd}}{P_{cus,wk}} <= \\frac{P_{sub,wkd}}{P_{sub,wk}}$"
   ]
  },
  {
   "cell_type": "code",
   "execution_count": 17,
   "metadata": {},
   "outputs": [
    {
     "name": "stdout",
     "output_type": "stream",
     "text": [
      "difference between customers and subscribers weekend to week ratio: 0.5475\n",
      "We must check the significance before we reject the Null Hypothesis\n"
     ]
    }
   ],
   "source": [
    "P0mP1 = weekend_c / week_c - weekend_s / week_s\n",
    "print (\"difference between customers and subscribers weekend to week ratio: {:.4f}\".format(P0mP1))\n",
    "if P0mP1 <= 0:\n",
    "    # we are done...\n",
    "    print(\"In accordance with Null Hypothesis\")\n",
    "else:\n",
    "    # morework to do\n",
    "    print (\"We must check the significance before we reject the Null Hypothesis\")"
   ]
  },
  {
   "cell_type": "markdown",
   "metadata": {},
   "source": [
    "### Is this difference statistically different?"
   ]
  },
  {
   "cell_type": "code",
   "execution_count": 18,
   "metadata": {},
   "outputs": [
    {
     "name": "stdout",
     "output_type": "stream",
     "text": [
      "chi-squared: 1.312, p-value: 0.252029257111\n"
     ]
    },
    {
     "data": {
      "text/html": [
       "<div>\n",
       "<style>\n",
       "    .dataframe thead tr:only-child th {\n",
       "        text-align: right;\n",
       "    }\n",
       "\n",
       "    .dataframe thead th {\n",
       "        text-align: left;\n",
       "    }\n",
       "\n",
       "    .dataframe tbody tr th {\n",
       "        vertical-align: top;\n",
       "    }\n",
       "</style>\n",
       "<table border=\"1\" class=\"dataframe\">\n",
       "  <thead>\n",
       "    <tr style=\"text-align: right;\">\n",
       "      <th></th>\n",
       "      <th>Customers</th>\n",
       "      <th>Subscribers</th>\n",
       "    </tr>\n",
       "  </thead>\n",
       "  <tbody>\n",
       "    <tr>\n",
       "      <th>Week</th>\n",
       "      <td>0.552906</td>\n",
       "      <td>0.792944</td>\n",
       "    </tr>\n",
       "    <tr>\n",
       "      <th>Weekend</th>\n",
       "      <td>0.447094</td>\n",
       "      <td>0.207056</td>\n",
       "    </tr>\n",
       "  </tbody>\n",
       "</table>\n",
       "</div>"
      ],
      "text/plain": [
       "         Customers  Subscribers\n",
       "Week      0.552906     0.792944\n",
       "Weekend   0.447094     0.207056"
      ]
     },
     "execution_count": 18,
     "metadata": {},
     "output_type": "execute_result"
    }
   ],
   "source": [
    "contingency_table = pd.DataFrame([\n",
    "    [week_c, week_s],\n",
    "    [weekend_c, weekend_s]\n",
    "], columns=['Customers', 'Subscribers'], index=['Week', 'Weekend'])\n",
    "\n",
    "print('chi-squared: {:.3f}, p-value: {}'.format(*chi2_contingency(contingency_table.values)[:2]))\n",
    "contingency_table"
   ]
  },
  {
   "cell_type": "markdown",
   "metadata": {},
   "source": [
    "#### The p-value is larger than the significance threshold meaning that the null hypothesis cannot be rejected."
   ]
  }
 ],
 "metadata": {
  "kernelspec": {
   "display_name": "Python 2",
   "language": "python",
   "name": "python2"
  },
  "language_info": {
   "codemirror_mode": {
    "name": "ipython",
    "version": 2
   },
   "file_extension": ".py",
   "mimetype": "text/x-python",
   "name": "python",
   "nbconvert_exporter": "python",
   "pygments_lexer": "ipython2",
   "version": "2.7.13"
  }
 },
 "nbformat": 4,
 "nbformat_minor": 1
}

{
 "cells": [
  {
   "cell_type": "markdown",
   "metadata": {
    "toc": "true"
   },
   "source": [
    "# Table of Contents\n",
    " <p><div class=\"lev1 toc-item\"><a href=\"#DATA:\" data-toc-modified-id=\"DATA:-1\"><span class=\"toc-item-num\">1&nbsp;&nbsp;</span>DATA:</a></div><div class=\"lev1 toc-item\"><a href=\"#exploration\" data-toc-modified-id=\"exploration-2\"><span class=\"toc-item-num\">2&nbsp;&nbsp;</span>exploration</a></div><div class=\"lev2 toc-item\"><a href=\"#plot-mass-shooting-vs-gdp-in-absolute-numbers,-and-per-person.-Show-the-errorbars-(y-errors)\" data-toc-modified-id=\"plot-mass-shooting-vs-gdp-in-absolute-numbers,-and-per-person.-Show-the-errorbars-(y-errors)-21\"><span class=\"toc-item-num\">2.1&nbsp;&nbsp;</span>plot mass shooting vs gdp in absolute numbers, and per person. Show the errorbars (y errors)</a></div><div class=\"lev2 toc-item\"><a href=\"#plot-the-average-number-of-civilian-fire-arms-per-person\" data-toc-modified-id=\"plot-the-average-number-of-civilian-fire-arms-per-person-22\"><span class=\"toc-item-num\">2.2&nbsp;&nbsp;</span>plot the average number of civilian fire arms per person</a></div><div class=\"lev2 toc-item\"><a href=\"#plot-the-average-number-of-homicide-by-fire-arms-per-person\" data-toc-modified-id=\"plot-the-average-number-of-homicide-by-fire-arms-per-person-23\"><span class=\"toc-item-num\">2.3&nbsp;&nbsp;</span>plot the average number of homicide by fire arms per person</a></div><div class=\"lev2 toc-item\"><a href=\"#plot-the-number-of--homicides-by-fire-arm-against-the-number-of-civilian-firearms.-plot-the--US-in-a-different-color\" data-toc-modified-id=\"plot-the-number-of--homicides-by-fire-arm-against-the-number-of-civilian-firearms.-plot-the--US-in-a-different-color-24\"><span class=\"toc-item-num\">2.4&nbsp;&nbsp;</span>plot the number of  homicides by fire arm against the number of civilian firearms. plot the  US in a different color</a></div><div class=\"lev2 toc-item\"><a href=\"#plot-the-number-of--mass-shootings-against-the-number-of-civilian-firearms.-plot-the--US-in-a-different-color\" data-toc-modified-id=\"plot-the-number-of--mass-shootings-against-the-number-of-civilian-firearms.-plot-the--US-in-a-different-color-25\"><span class=\"toc-item-num\">2.5&nbsp;&nbsp;</span>plot the number of  mass shootings against the number of civilian firearms. plot the  US in a different color</a></div><div class=\"lev1 toc-item\"><a href=\"#Modeling\" data-toc-modified-id=\"Modeling-3\"><span class=\"toc-item-num\">3&nbsp;&nbsp;</span>Modeling</a></div><div class=\"lev2 toc-item\"><a href=\"#fit-a-line-to-the-Number-of-mass-shootings--per-person-as-a-function-of-Average-total-all-civilian-firearms-per-person.\" data-toc-modified-id=\"fit-a-line-to-the-Number-of-mass-shootings--per-person-as-a-function-of-Average-total-all-civilian-firearms-per-person.-31\"><span class=\"toc-item-num\">3.1&nbsp;&nbsp;</span>fit a line to the Number of mass shootings  per person as a function of Average total all civilian firearms per person.</a></div><div class=\"lev2 toc-item\"><a href=\"#Extra-credit:-calculate-the-confidence-interval-by-hand-and-also-plot-them\" data-toc-modified-id=\"Extra-credit:-calculate-the-confidence-interval-by-hand-and-also-plot-them-32\"><span class=\"toc-item-num\">3.2&nbsp;&nbsp;</span>Extra credit: calculate the confidence interval by hand and also plot them</a></div><div class=\"lev2 toc-item\"><a href=\"#Use-the-stsatsmodels.gaphics-package-to-plot-the-influence-plot.\" data-toc-modified-id=\"Use-the-stsatsmodels.gaphics-package-to-plot-the-influence-plot.-33\"><span class=\"toc-item-num\">3.3&nbsp;&nbsp;</span>Use the stsatsmodels.gaphics package to plot the influence plot.</a></div><div class=\"lev2 toc-item\"><a href=\"#Extra-credit:-calculate-from-scratch-the-stanrdardized-residuals-and-the-H-leverage-for-the-WLS-model-and-discuss-if-there-are-any-differences\" data-toc-modified-id=\"Extra-credit:-calculate-from-scratch-the-stanrdardized-residuals-and-the-H-leverage-for-the-WLS-model-and-discuss-if-there-are-any-differences-34\"><span class=\"toc-item-num\">3.4&nbsp;&nbsp;</span>Extra credit: calculate from scratch the stanrdardized residuals and the H leverage for the WLS model and discuss if there are any differences</a></div><div class=\"lev2 toc-item\"><a href=\"#Discuss-your-findings\" data-toc-modified-id=\"Discuss-your-findings-35\"><span class=\"toc-item-num\">3.5&nbsp;&nbsp;</span>Discuss your findings</a></div>"
   ]
  },
  {
   "cell_type": "markdown",
   "metadata": {},
   "source": [
    "**regression exercise**\n",
    "\n",
    "**written by Federica B Bianco CUSP 2017**\n",
    "\n",
    "**for PUI lecture on models and linear regression**"
   ]
  },
  {
   "cell_type": "markdown",
   "metadata": {},
   "source": [
    "**investigate linear relationships between fire arm possession, homicides by fire arms, and mass shootings for different countries, considering also the country GDP**"
   ]
  },
  {
   "cell_type": "code",
   "execution_count": 59,
   "metadata": {},
   "outputs": [
    {
     "name": "stdout",
     "output_type": "stream",
     "text": [
      "Populating the interactive namespace from numpy and matplotlib\n"
     ]
    }
   ],
   "source": [
    "from __future__ import print_function, division\n",
    "import pylab as pl\n",
    "import pandas as pd\n",
    "import numpy as np\n",
    "%pylab inline\n",
    "try:\n",
    "    import urllib2 as urllib\n",
    "except ImportError:\n",
    "    import urllib.request as urllib\n",
    "\n",
    "import os\n",
    "from IPython.display import Markdown\n",
    "\n",
    "import zipfile\n",
    "import io\n",
    "def get_data(url, cache_name=None, is_zip=False, refresh=False, **kw):\n",
    "    cache_name = cache_name or os.path.basename(url)\n",
    "    local_file = os.path.join(os.getenv('PUIDATA', './'), cache_name)\n",
    "    \n",
    "    if os.path.isfile(local_file) and not refresh:\n",
    "        print('Loading from:', local_file)\n",
    "        return pd.read_csv(local_file) # kw not here because it's assumed to be saved correctly\n",
    "    else:\n",
    "        print('Not in PUIDATA. Loading from url.')\n",
    "        if is_zip:\n",
    "            # Get zip buffer\n",
    "            remotezip = urllib.urlopen(url).read()\n",
    "\n",
    "            # Open in memory\n",
    "            with zipfile.ZipFile(io.BytesIO(remotezip)) as z:\n",
    "                # Read the filename or the first file if there are naming inconsistencies\n",
    "                zip_file_to_read = cache_name if cache_name in z.namelist() else z.namelist()[0]\n",
    "                df = pd.read_csv(z.open(zip_file_to_read), **kw)\n",
    "        else:\n",
    "            df = pd.read_csv(urllib.urlopen(url), **kw)\n",
    "\n",
    "        # Save dataframe as cached \n",
    "        df.to_csv(local_file, index=False)\n",
    "    return df"
   ]
  },
  {
   "cell_type": "markdown",
   "metadata": {},
   "source": [
    "# DATA: \n",
    "\n",
    "The Guardian firearms murders and ownership data. The relevans sheet is uploaded in the github repository as a csv file. Download it from there. Note: this dataset is from 2012.\n",
    "\n",
    "**Extra credit**: download directly from google docs with a google API\n",
    "\n",
    "https://docs.google.com/spreadsheets/d/1chqUZHuY6cXYrRYkuE0uwXisGaYvr7durZHJhpLGycs/edit#gid=0\n",
    "\n",
    "Number of mass shootings: find the link here https://datawrapper.dwcdn.net/pvLFI/4/\n",
    "\n",
    "The world population by country find the download link here :\n",
    "https://data.worldbank.org/indicator/SP.POP.TOTL\n",
    "\n",
    "Remember that all read or downloads have to me reproducible.\n",
    "\n",
    "Merge all datasets. After throwing away the irrelevant data it should look something like this (I renamed the GDP and the population as gdp\" and \"pop\")\n",
    "\n",
    "Throughout, when I ask you to include errors in plots or models, use Poisson statistics: the error is the square root of the number you are considering (e.g. this country has N fire arms +/- square root of N, or this country has Np [= N/population +/- (square root of N) / population] fire arms per person)."
   ]
  },
  {
   "cell_type": "code",
   "execution_count": 74,
   "metadata": {},
   "outputs": [
    {
     "name": "stdout",
     "output_type": "stream",
     "text": [
      "Loading from: /Users/bensteers/Desktop/Storage/NYU/Fall2017/PUI/data/API_SP.POP.TOTL_DS2_en_csv_v2.csv\n"
     ]
    },
    {
     "data": {
      "text/html": [
       "<div>\n",
       "<style>\n",
       "    .dataframe thead tr:only-child th {\n",
       "        text-align: right;\n",
       "    }\n",
       "\n",
       "    .dataframe thead th {\n",
       "        text-align: left;\n",
       "    }\n",
       "\n",
       "    .dataframe tbody tr th {\n",
       "        vertical-align: top;\n",
       "    }\n",
       "</style>\n",
       "<table border=\"1\" class=\"dataframe\">\n",
       "  <thead>\n",
       "    <tr style=\"text-align: right;\">\n",
       "      <th></th>\n",
       "      <th>Country Name</th>\n",
       "      <th>pop</th>\n",
       "    </tr>\n",
       "  </thead>\n",
       "  <tbody>\n",
       "    <tr>\n",
       "      <th>0</th>\n",
       "      <td>Aruba</td>\n",
       "      <td>102577.0</td>\n",
       "    </tr>\n",
       "    <tr>\n",
       "      <th>1</th>\n",
       "      <td>Afghanistan</td>\n",
       "      <td>30696958.0</td>\n",
       "    </tr>\n",
       "    <tr>\n",
       "      <th>2</th>\n",
       "      <td>Angola</td>\n",
       "      <td>25096150.0</td>\n",
       "    </tr>\n",
       "    <tr>\n",
       "      <th>3</th>\n",
       "      <td>Albania</td>\n",
       "      <td>2900401.0</td>\n",
       "    </tr>\n",
       "    <tr>\n",
       "      <th>4</th>\n",
       "      <td>Andorra</td>\n",
       "      <td>82431.0</td>\n",
       "    </tr>\n",
       "  </tbody>\n",
       "</table>\n",
       "</div>"
      ],
      "text/plain": [
       "  Country Name         pop\n",
       "0        Aruba    102577.0\n",
       "1  Afghanistan  30696958.0\n",
       "2       Angola  25096150.0\n",
       "3      Albania   2900401.0\n",
       "4      Andorra     82431.0"
      ]
     },
     "execution_count": 74,
     "metadata": {},
     "output_type": "execute_result"
    }
   ],
   "source": [
    "# http://api.worldbank.org/v2/en/indicator/SP.POP.TOTL?downloadformat=csv\n",
    "df_pop = get_data(\n",
    "    'http://api.worldbank.org/v2/en/indicator/SP.POP.TOTL?downloadformat=csv', \n",
    "    is_zip=True, skiprows=3, cache_name='API_SP.POP.TOTL_DS2_en_csv_v2.csv'#, refresh=True\n",
    ").dropna(how='all', axis=1)\n",
    "df_pop = df_pop[['Country Name', '2012']].rename(columns={'2012': 'pop'})\n",
    "df_pop.head()"
   ]
  },
  {
   "cell_type": "code",
   "execution_count": 76,
   "metadata": {},
   "outputs": [
    {
     "name": "stdout",
     "output_type": "stream",
     "text": [
      "Not in PUIDATA. Loading from url.\n"
     ]
    },
    {
     "data": {
      "text/html": [
       "<div>\n",
       "<style>\n",
       "    .dataframe thead tr:only-child th {\n",
       "        text-align: right;\n",
       "    }\n",
       "\n",
       "    .dataframe thead th {\n",
       "        text-align: left;\n",
       "    }\n",
       "\n",
       "    .dataframe tbody tr th {\n",
       "        vertical-align: top;\n",
       "    }\n",
       "</style>\n",
       "<table border=\"1\" class=\"dataframe\">\n",
       "  <thead>\n",
       "    <tr style=\"text-align: right;\">\n",
       "      <th></th>\n",
       "      <th>Country Name</th>\n",
       "      <th>gdp</th>\n",
       "    </tr>\n",
       "  </thead>\n",
       "  <tbody>\n",
       "    <tr>\n",
       "      <th>0</th>\n",
       "      <td>Aruba</td>\n",
       "      <td>NaN</td>\n",
       "    </tr>\n",
       "    <tr>\n",
       "      <th>1</th>\n",
       "      <td>Afghanistan</td>\n",
       "      <td>2.053654e+10</td>\n",
       "    </tr>\n",
       "    <tr>\n",
       "      <th>2</th>\n",
       "      <td>Angola</td>\n",
       "      <td>1.153984e+11</td>\n",
       "    </tr>\n",
       "    <tr>\n",
       "      <th>3</th>\n",
       "      <td>Albania</td>\n",
       "      <td>1.231978e+10</td>\n",
       "    </tr>\n",
       "    <tr>\n",
       "      <th>4</th>\n",
       "      <td>Andorra</td>\n",
       "      <td>3.146152e+09</td>\n",
       "    </tr>\n",
       "  </tbody>\n",
       "</table>\n",
       "</div>"
      ],
      "text/plain": [
       "  Country Name           gdp\n",
       "0        Aruba           NaN\n",
       "1  Afghanistan  2.053654e+10\n",
       "2       Angola  1.153984e+11\n",
       "3      Albania  1.231978e+10\n",
       "4      Andorra  3.146152e+09"
      ]
     },
     "execution_count": 76,
     "metadata": {},
     "output_type": "execute_result"
    }
   ],
   "source": [
    "# http://api.worldbank.org/v2/en/indicator/NY.GDP.MKTP.CD?downloadformat=csv\n",
    "df_gdp = get_data(\n",
    "    'http://api.worldbank.org/v2/en/indicator/NY.GDP.MKTP.CD?downloadformat=csv', \n",
    "    is_zip=True, skiprows=3, cache_name='API_NY.GDP.MKTP.CD_DS2_en_csv_v2.csv' #, refresh=True\n",
    ").dropna(how='all', axis=1)\n",
    "df_gdp = df_gdp[['Country Name', '2012']].rename(columns={'2012': 'gdp'})\n",
    "df_gdp.head()"
   ]
  },
  {
   "cell_type": "code",
   "execution_count": 4,
   "metadata": {},
   "outputs": [
    {
     "data": {
      "text/html": [
       "<div>\n",
       "<style>\n",
       "    .dataframe thead tr:only-child th {\n",
       "        text-align: right;\n",
       "    }\n",
       "\n",
       "    .dataframe thead th {\n",
       "        text-align: left;\n",
       "    }\n",
       "\n",
       "    .dataframe tbody tr th {\n",
       "        vertical-align: top;\n",
       "    }\n",
       "</style>\n",
       "<table border=\"1\" class=\"dataframe\">\n",
       "  <thead>\n",
       "    <tr style=\"text-align: right;\">\n",
       "      <th></th>\n",
       "      <th>Country Name</th>\n",
       "      <th>Guns/100 inhabitants</th>\n",
       "      <th>Number of mass shootings</th>\n",
       "    </tr>\n",
       "  </thead>\n",
       "  <tbody>\n",
       "    <tr>\n",
       "      <th>0</th>\n",
       "      <td>Australia</td>\n",
       "      <td>15.0</td>\n",
       "      <td>4</td>\n",
       "    </tr>\n",
       "    <tr>\n",
       "      <th>1</th>\n",
       "      <td>Austria</td>\n",
       "      <td>30.4</td>\n",
       "      <td>1</td>\n",
       "    </tr>\n",
       "    <tr>\n",
       "      <th>2</th>\n",
       "      <td>Beligium</td>\n",
       "      <td>17.2</td>\n",
       "      <td>2</td>\n",
       "    </tr>\n",
       "    <tr>\n",
       "      <th>3</th>\n",
       "      <td>Canada</td>\n",
       "      <td>30.8</td>\n",
       "      <td>4</td>\n",
       "    </tr>\n",
       "    <tr>\n",
       "      <th>4</th>\n",
       "      <td>Denmark</td>\n",
       "      <td>12.0</td>\n",
       "      <td>0</td>\n",
       "    </tr>\n",
       "  </tbody>\n",
       "</table>\n",
       "</div>"
      ],
      "text/plain": [
       "  Country Name  Guns/100 inhabitants  Number of mass shootings\n",
       "0    Australia                  15.0                         4\n",
       "1      Austria                  30.4                         1\n",
       "2     Beligium                  17.2                         2\n",
       "3       Canada                  30.8                         4\n",
       "4      Denmark                  12.0                         0"
      ]
     },
     "execution_count": 4,
     "metadata": {},
     "output_type": "execute_result"
    }
   ],
   "source": [
    "df_guns = pd.read_csv('data-pvLFI.csv').rename(columns={'Country': 'Country Name'})\n",
    "df_guns.head()"
   ]
  },
  {
   "cell_type": "code",
   "execution_count": 82,
   "metadata": {},
   "outputs": [
    {
     "name": "stdout",
     "output_type": "stream",
     "text": [
      "Not in PUIDATA. Loading from url.\n"
     ]
    },
    {
     "data": {
      "text/html": [
       "<div>\n",
       "<style>\n",
       "    .dataframe thead tr:only-child th {\n",
       "        text-align: right;\n",
       "    }\n",
       "\n",
       "    .dataframe thead th {\n",
       "        text-align: left;\n",
       "    }\n",
       "\n",
       "    .dataframe tbody tr th {\n",
       "        vertical-align: top;\n",
       "    }\n",
       "</style>\n",
       "<table border=\"1\" class=\"dataframe\">\n",
       "  <thead>\n",
       "    <tr style=\"text-align: right;\">\n",
       "      <th></th>\n",
       "      <th>Country Name</th>\n",
       "      <th>Average total all civilian firearms</th>\n",
       "      <th>Number of homicides by firearm</th>\n",
       "    </tr>\n",
       "  </thead>\n",
       "  <tbody>\n",
       "    <tr>\n",
       "      <th>0</th>\n",
       "      <td>Albania</td>\n",
       "      <td>270000.0</td>\n",
       "      <td>56.0</td>\n",
       "    </tr>\n",
       "    <tr>\n",
       "      <th>1</th>\n",
       "      <td>Algeria</td>\n",
       "      <td>1900000.0</td>\n",
       "      <td>20.0</td>\n",
       "    </tr>\n",
       "    <tr>\n",
       "      <th>2</th>\n",
       "      <td>Angola</td>\n",
       "      <td>2800000.0</td>\n",
       "      <td>NaN</td>\n",
       "    </tr>\n",
       "    <tr>\n",
       "      <th>3</th>\n",
       "      <td>Anguilla</td>\n",
       "      <td>NaN</td>\n",
       "      <td>1.0</td>\n",
       "    </tr>\n",
       "    <tr>\n",
       "      <th>4</th>\n",
       "      <td>Argentina</td>\n",
       "      <td>3950000.0</td>\n",
       "      <td>1198.0</td>\n",
       "    </tr>\n",
       "  </tbody>\n",
       "</table>\n",
       "</div>"
      ],
      "text/plain": [
       "  Country Name  Average total all civilian firearms  \\\n",
       "0      Albania                             270000.0   \n",
       "1      Algeria                            1900000.0   \n",
       "2       Angola                            2800000.0   \n",
       "3     Anguilla                                  NaN   \n",
       "4    Argentina                            3950000.0   \n",
       "\n",
       "   Number of homicides by firearm  \n",
       "0                            56.0  \n",
       "1                            20.0  \n",
       "2                             NaN  \n",
       "3                             1.0  \n",
       "4                          1198.0  "
      ]
     },
     "execution_count": 82,
     "metadata": {},
     "output_type": "execute_result"
    }
   ],
   "source": [
    "df_ms = get_data(\n",
    "    'https://docs.google.com/spreadsheet/ccc?key=1chqUZHuY6cXYrRYkuE0uwXisGaYvr7durZHJhpLGycs&output=csv', \n",
    "    cache_name='API_NY.GDP.MKTP.CD_DS2_en_csv_v2.csv', refresh=True\n",
    ")\n",
    "df_ms = df_ms[\n",
    "    ['Country/Territory', 'Average total all civilian firearms', 'Number of homicides by firearm']\n",
    "].rename(columns={'Country/Territory': 'Country Name'})\n",
    "df_ms.head()"
   ]
  },
  {
   "cell_type": "code",
   "execution_count": 6,
   "metadata": {},
   "outputs": [
    {
     "data": {
      "text/html": [
       "<div>\n",
       "<style>\n",
       "    .dataframe thead tr:only-child th {\n",
       "        text-align: right;\n",
       "    }\n",
       "\n",
       "    .dataframe thead th {\n",
       "        text-align: left;\n",
       "    }\n",
       "\n",
       "    .dataframe tbody tr th {\n",
       "        vertical-align: top;\n",
       "    }\n",
       "</style>\n",
       "<table border=\"1\" class=\"dataframe\">\n",
       "  <thead>\n",
       "    <tr style=\"text-align: right;\">\n",
       "      <th></th>\n",
       "      <th>Country Name</th>\n",
       "      <th>pop</th>\n",
       "      <th>gdp</th>\n",
       "      <th>Guns/100 inhabitants</th>\n",
       "      <th>Number of mass shootings</th>\n",
       "      <th>Average total all civilian firearms</th>\n",
       "      <th>Number of homicides by firearm</th>\n",
       "    </tr>\n",
       "  </thead>\n",
       "  <tbody>\n",
       "    <tr>\n",
       "      <th>0</th>\n",
       "      <td>Australia</td>\n",
       "      <td>22728254.0</td>\n",
       "      <td>1.538194e+12</td>\n",
       "      <td>15.0</td>\n",
       "      <td>4</td>\n",
       "      <td>3050000.0</td>\n",
       "      <td>30.0</td>\n",
       "    </tr>\n",
       "    <tr>\n",
       "      <th>1</th>\n",
       "      <td>Austria</td>\n",
       "      <td>8429991.0</td>\n",
       "      <td>4.074516e+11</td>\n",
       "      <td>30.4</td>\n",
       "      <td>1</td>\n",
       "      <td>2500000.0</td>\n",
       "      <td>18.0</td>\n",
       "    </tr>\n",
       "    <tr>\n",
       "      <th>2</th>\n",
       "      <td>Canada</td>\n",
       "      <td>34750545.0</td>\n",
       "      <td>1.824289e+12</td>\n",
       "      <td>30.8</td>\n",
       "      <td>4</td>\n",
       "      <td>9950000.0</td>\n",
       "      <td>173.0</td>\n",
       "    </tr>\n",
       "    <tr>\n",
       "      <th>3</th>\n",
       "      <td>Switzerland</td>\n",
       "      <td>7996861.0</td>\n",
       "      <td>6.650541e+11</td>\n",
       "      <td>45.7</td>\n",
       "      <td>2</td>\n",
       "      <td>3400000.0</td>\n",
       "      <td>57.0</td>\n",
       "    </tr>\n",
       "    <tr>\n",
       "      <th>4</th>\n",
       "      <td>Germany</td>\n",
       "      <td>80425823.0</td>\n",
       "      <td>3.543984e+12</td>\n",
       "      <td>30.3</td>\n",
       "      <td>7</td>\n",
       "      <td>25000000.0</td>\n",
       "      <td>158.0</td>\n",
       "    </tr>\n",
       "  </tbody>\n",
       "</table>\n",
       "</div>"
      ],
      "text/plain": [
       "  Country Name         pop           gdp  Guns/100 inhabitants  \\\n",
       "0    Australia  22728254.0  1.538194e+12                  15.0   \n",
       "1      Austria   8429991.0  4.074516e+11                  30.4   \n",
       "2       Canada  34750545.0  1.824289e+12                  30.8   \n",
       "3  Switzerland   7996861.0  6.650541e+11                  45.7   \n",
       "4      Germany  80425823.0  3.543984e+12                  30.3   \n",
       "\n",
       "   Number of mass shootings  Average total all civilian firearms  \\\n",
       "0                         4                            3050000.0   \n",
       "1                         1                            2500000.0   \n",
       "2                         4                            9950000.0   \n",
       "3                         2                            3400000.0   \n",
       "4                         7                           25000000.0   \n",
       "\n",
       "   Number of homicides by firearm  \n",
       "0                            30.0  \n",
       "1                            18.0  \n",
       "2                           173.0  \n",
       "3                            57.0  \n",
       "4                           158.0  "
      ]
     },
     "execution_count": 6,
     "metadata": {},
     "output_type": "execute_result"
    }
   ],
   "source": [
    "df_dem = df_pop.merge(df_gdp, on=\"Country Name\")\n",
    "df_guns_ms = df_guns.merge(df_ms, on=\"Country Name\")\n",
    "df_ = df_dem.merge(df_guns_ms, on=\"Country Name\")\n",
    "df_.head()"
   ]
  },
  {
   "cell_type": "markdown",
   "metadata": {},
   "source": [
    "# exploration\n",
    "\n",
    "## plot mass shooting vs gdp in absolute numbers, and per person. Show the errorbars (y errors)\n",
    "\n",
    "Use Poisson statistics for the errorbars on the number of mass shootings (optional: include errors on the population, also as Poisson statistics)\n",
    "\n",
    "Are there any points that look like they may be outilers?\n"
   ]
  },
  {
   "cell_type": "code",
   "execution_count": 7,
   "metadata": {
    "ExecuteTime": {
     "end_time": "2017-10-12T11:24:38.210994",
     "start_time": "2017-10-12T11:24:37.927232"
    }
   },
   "outputs": [
    {
     "data": {
      "image/png": "[encoded data removed]",
      "text/plain": [
       "<matplotlib.figure.Figure at 0x1078bd2e8>"
      ]
     },
     "metadata": {},
     "output_type": "display_data"
    },
    {
     "data": {
      "text/markdown": [
       "\n",
       "**Figure 1a**: The number of mass shootings vs. GDP, errors represent Poisson statistics. This applies to all subsequent error bars. \n",
       "The point in the top right is the US which has the highest GDP and number of mass shootings.\n",
       "\n",
       "**Figure 1b**: The number of mass shootings per 1,000 people vs. GDP. The point on the right is the US.\n"
      ],
      "text/plain": [
       "<IPython.core.display.Markdown object>"
      ]
     },
     "execution_count": 7,
     "metadata": {},
     "output_type": "execute_result"
    }
   ],
   "source": [
    "pl.figure(figsize=(15,5)) \n",
    "\n",
    "x, y = df_.gdp / 1e9, df_['Number of mass shootings']\n",
    "\n",
    "pl.subplot(1, 2, 1)\n",
    "pl.scatter(x, y)\n",
    "pl.errorbar(x, y, yerr=np.sqrt(y * 1.), fmt='.', color='k')\n",
    "pl.title('The number of mass shootings against GDP')\n",
    "pl.xlabel(\"GDP (in billions)\")\n",
    "pl.ylabel(\"Number of mass shootings\")\n",
    "\n",
    "df_[\"shootingspp\"] = df_[\"Number of mass shootings\"] / df_['pop'] * 1e3\n",
    "y = df_[\"shootingspp\"]\n",
    "\n",
    "pl.subplot(1, 2, 2)\n",
    "pl.scatter(x, y)\n",
    "pl.errorbar(x, y, yerr=np.sqrt(y * 1.), fmt='.', color='k')\n",
    "pl.title('The number of mass shootings per 1000 people against GDP')\n",
    "pl.xlabel(\"GDP (in billions)\")\n",
    "pl.ylabel(\"Number of mass shootings per 1000 people\")\n",
    "pl.show()\n",
    "Markdown('''\n",
    "**Figure 1a**: The number of mass shootings vs. GDP, errors represent Poisson statistics. This applies to all subsequent error bars. \n",
    "The point in the top right is the US which has the highest GDP and number of mass shootings.\n",
    "\n",
    "**Figure 1b**: The number of mass shootings per 1,000 people vs. GDP. The point on the right is the US.\n",
    "''')"
   ]
  },
  {
   "cell_type": "markdown",
   "metadata": {},
   "source": [
    "#### The US is a clear outlier when looking at the total number of mass shootings as a function of GDP. It is less so when looking at the number of mass shootings per unit population. This can most likely be ascribed to the large relative size of the US population. "
   ]
  },
  {
   "cell_type": "markdown",
   "metadata": {},
   "source": [
    "## plot the average number of civilian fire arms per person\n",
    "first without errors, then with errors. are there  points that look like outliers?"
   ]
  },
  {
   "cell_type": "code",
   "execution_count": 8,
   "metadata": {},
   "outputs": [
    {
     "data": {
      "image/png": "[encoded data removed]",
      "text/plain": [
       "<matplotlib.figure.Figure at 0x1078bd978>"
      ]
     },
     "metadata": {},
     "output_type": "display_data"
    },
    {
     "data": {
      "text/markdown": [
       "\n",
       "**Figure 2a**: The average total number of civilian firearms per person vs. GDP. \n",
       "The point in the top right is the US which has the highest GDP and number of civilian firearms per person.\n",
       "\n",
       "**Figure 2b**: The same plot as Figure 2a, but with error bars.\n"
      ],
      "text/plain": [
       "<IPython.core.display.Markdown object>"
      ]
     },
     "execution_count": 8,
     "metadata": {},
     "output_type": "execute_result"
    }
   ],
   "source": [
    "pl.figure(figsize=(15,5)) \n",
    "\n",
    "# Select data to plot\n",
    "x, y = df_.gdp / 1e9, df_[\"Average total all civilian firearms\"] / df_['pop']\n",
    "\n",
    "# Plot without error bars\n",
    "pl.subplot(1, 2, 1)\n",
    "pl.scatter(x, y)\n",
    "pl.title('Average total of civilian firearms per person against GDP')\n",
    "pl.xlabel(\"GDP (in billions)\")\n",
    "pl.ylabel(\"Average total of civilian firearms per person\")\n",
    "\n",
    "# Plot with error bars\n",
    "pl.subplot(1, 2, 2)\n",
    "pl.scatter(x, y)\n",
    "pl.errorbar(x, y, yerr=np.sqrt(y * 1.), fmt='.', color='k')\n",
    "pl.title('Average total of civilian firearms per person against GDP with error bars')\n",
    "pl.xlabel(\"GDP (in billions)\")\n",
    "pl.ylabel(\"Average total of civilian firearms per person\")\n",
    "pl.show()\n",
    "Markdown('''\n",
    "**Figure 2a**: The average total number of civilian firearms per person vs. GDP. \n",
    "The point in the top right is the US which has the highest GDP and number of civilian firearms per person.\n",
    "\n",
    "**Figure 2b**: The same plot as Figure 2a, but with error bars.\n",
    "''')"
   ]
  },
  {
   "cell_type": "markdown",
   "metadata": {},
   "source": [
    "#### In both plots above, the US is a clear outlier from the rest of the countries shown. This is most likely ascribed to a cultural pattern where many citizens' fragile masculinity is tied to their firearms."
   ]
  },
  {
   "cell_type": "markdown",
   "metadata": {},
   "source": [
    "## plot the average number of homicide by fire arms per person\n",
    "first as a histogram\n",
    "\n",
    "then against the country GDP, with statistical errors. are there  points that look like outliers?"
   ]
  },
  {
   "cell_type": "code",
   "execution_count": 9,
   "metadata": {
    "ExecuteTime": {
     "end_time": "2017-10-12T07:53:17.910541",
     "start_time": "2017-10-12T07:53:17.506477"
    }
   },
   "outputs": [
    {
     "data": {
      "image/png": "[encoded data removed]",
      "text/plain": [
       "<matplotlib.figure.Figure at 0x1079f6358>"
      ]
     },
     "metadata": {},
     "output_type": "display_data"
    },
    {
     "data": {
      "text/markdown": [
       "\n",
       "**Figure 3a**: The distribution of homicides by firearm per 1000 people. The rightmost bar is the US.\n",
       "\n",
       "**Figure 3b**: The homicides by firearm per 1000 people vs. GDP. \n",
       "The point on the right is the US which has the highest GDP and number of homicides by firearm per 1000 people.\n"
      ],
      "text/plain": [
       "<IPython.core.display.Markdown object>"
      ]
     },
     "execution_count": 9,
     "metadata": {},
     "output_type": "execute_result"
    }
   ],
   "source": [
    "pl.figure(figsize=(15,5)) \n",
    "\n",
    "# Select data\n",
    "x, y = df_.gdp / 1e9, df_['Number of homicides by firearm'] / df_['pop'] * 1e3\n",
    "\n",
    "# Plot distribution\n",
    "pl.subplot(1, 2, 1)\n",
    "pl.hist(y)\n",
    "pl.title('Distribution of homicides by firearm per 1000 people')\n",
    "pl.xlabel('homicides by firearm per 1000 people')\n",
    "\n",
    "# Plot against gdp\n",
    "pl.subplot(1, 2, 2)\n",
    "pl.scatter(x, y)\n",
    "pl.errorbar(x, y, yerr=np.sqrt(y * 1.), fmt='.', color='k')\n",
    "pl.title('Homicides by firearm per 1000 people against GDP')\n",
    "pl.xlabel(\"GDP (in billions)\")\n",
    "pl.ylabel(\"homicides by firearm per 1000 people\")\n",
    "pl.show()\n",
    "Markdown('''\n",
    "**Figure 3a**: The distribution of homicides by firearm per 1000 people. The rightmost bar is the US.\n",
    "\n",
    "**Figure 3b**: The homicides by firearm per 1000 people vs. GDP. \n",
    "The point on the right is the US which has the highest GDP and number of homicides by firearm per 1000 people.\n",
    "''')"
   ]
  },
  {
   "cell_type": "markdown",
   "metadata": {},
   "source": [
    "#### The US is a clear outlier in both plots."
   ]
  },
  {
   "cell_type": "markdown",
   "metadata": {},
   "source": [
    "## plot the number of  homicides by fire arm against the number of civilian firearms. plot the  US in a different color\n",
    "with and without errorbars\n"
   ]
  },
  {
   "cell_type": "code",
   "execution_count": 10,
   "metadata": {},
   "outputs": [
    {
     "data": {
      "image/png": "[encoded data removed]",
      "text/plain": [
       "<matplotlib.figure.Figure at 0x103c91198>"
      ]
     },
     "metadata": {},
     "output_type": "display_data"
    },
    {
     "data": {
      "text/markdown": [
       "\n",
       "**Figure 4a**: The number of homicides by fire arm vs. the number of civilian firearms. \n",
       "The point in the top right is the US which has both the highest number of homicides by fire arm \n",
       "and number of civilian firearms per person.\n",
       "\n",
       "**Figure 4b**: The same plot as Figure 4a, but with error bars.\n"
      ],
      "text/plain": [
       "<IPython.core.display.Markdown object>"
      ]
     },
     "execution_count": 10,
     "metadata": {},
     "output_type": "execute_result"
    }
   ],
   "source": [
    "pl.figure(figsize=(15,5)) \n",
    "\n",
    "# Select data and colors\n",
    "x, y = df_['Average total all civilian firearms'], df_['Number of homicides by firearm']\n",
    "colors = (df_['Country Name'] == 'United States').map({0:'b', 1:'r'})\n",
    "\n",
    "# Plot without error bars\n",
    "pl.subplot(1, 2, 1)\n",
    "pl.scatter(x, y, color=colors)\n",
    "pl.title('N homicides by fire arm against N civilian firearms')\n",
    "pl.xlabel(\"number of civilian firearms\")\n",
    "pl.ylabel(\"number of homicides by fire arm\")\n",
    "\n",
    "# Plot with error bars\n",
    "pl.subplot(1, 2, 2)\n",
    "pl.scatter(x, y, color=colors)\n",
    "pl.errorbar(x, y, yerr=np.sqrt(y * 1000.), fmt='.', color='k')\n",
    "pl.title('N homicides by fire arm against N of civilian firearms w/ error bars')\n",
    "pl.xlabel(\"number of civilian firearms\")\n",
    "pl.ylabel(\"number of homicides by fire arm\")\n",
    "pl.show()\n",
    "Markdown('''\n",
    "**Figure 4a**: The number of homicides by fire arm vs. the number of civilian firearms. \n",
    "The point in the top right is the US which has both the highest number of homicides by fire arm \n",
    "and number of civilian firearms per person.\n",
    "\n",
    "**Figure 4b**: The same plot as Figure 4a, but with error bars.\n",
    "''')"
   ]
  },
  {
   "cell_type": "markdown",
   "metadata": {},
   "source": [
    "## plot the number of  mass shootings against the number of civilian firearms. plot the  US in a different color\n",
    "with and without errorbars\n"
   ]
  },
  {
   "cell_type": "code",
   "execution_count": 11,
   "metadata": {},
   "outputs": [
    {
     "data": {
      "image/png": "[encoded data removed]",
      "text/plain": [
       "<matplotlib.figure.Figure at 0x107921c88>"
      ]
     },
     "metadata": {},
     "output_type": "display_data"
    },
    {
     "data": {
      "text/markdown": [
       "\n",
       "**Figure 5a**: The number of mass shootings vs. the number of civilian firearms. \n",
       "The point in the top right is the US which has both the highest number of mass shootings \n",
       "and number of civilian firearms per person.\n",
       "\n",
       "**Figure 5b**: The same plot as Figure 5a, but with error bars.\n"
      ],
      "text/plain": [
       "<IPython.core.display.Markdown object>"
      ]
     },
     "execution_count": 11,
     "metadata": {},
     "output_type": "execute_result"
    }
   ],
   "source": [
    "pl.figure(figsize=(15,5)) \n",
    "\n",
    "# Select data and colors\n",
    "x, y = df_['Average total all civilian firearms'], df_['Number of mass shootings']\n",
    "colors = (df_['Country Name'] == 'United States').map({0:'b', 1:'r'})\n",
    "\n",
    "# Plot without error bars\n",
    "pl.subplot(1, 2, 1)\n",
    "pl.scatter(x, y, color=colors)\n",
    "pl.title('N mass shootings against N civilian firearms')\n",
    "pl.xlabel(\"number of civilian firearms\")\n",
    "pl.ylabel(\"number of mass shootings\")\n",
    "\n",
    "# Plot with error bars\n",
    "pl.subplot(1, 2, 2)\n",
    "pl.scatter(x, y, color=colors)\n",
    "pl.errorbar(x, y, yerr=np.sqrt(y * 1000.), fmt='.', color='k')\n",
    "pl.title('N mass shootings against N of civilian firearms w/ error bars')\n",
    "pl.xlabel(\"number of civilian firearms\")\n",
    "pl.ylabel(\"number of mass shootings\")\n",
    "pl.show()\n",
    "Markdown('''\n",
    "**Figure 5a**: The number of mass shootings vs. the number of civilian firearms. \n",
    "The point in the top right is the US which has both the highest number of mass shootings \n",
    "and number of civilian firearms per person.\n",
    "\n",
    "**Figure 5b**: The same plot as Figure 5a, but with error bars.\n",
    "''')"
   ]
  },
  {
   "cell_type": "markdown",
   "metadata": {},
   "source": [
    "# Modeling\n",
    "\n",
    "## fit a line to the Number of mass shootings  per person as a function of Average total all civilian firearms per person. \n",
    "Before you do it it is a good idea to make sure that both quantities are roughly of the same order of magnitude (unity). (You can simply divide by the order of magnitude of the mean of the sample to obtain this). Use\n",
    "\n",
    "    - statsmodels OLS\n",
    "    - statsmodels WLS\n",
    "    - seaborn\n",
    "    - choose one of\n",
    "        -- creating a function that calculates the residuals and minimizing that function\n",
    "        -- analytical solution http://mathworld.wolfram.com/LeastSquaresFitting.html\n",
    "        -- numpy.polyfit() - https://docs.scipy.org/doc/numpy-1.13.0/reference/generated/numpy.polyfit.html\n",
    "    \n",
    "\n",
    "WLS: that is the weighted square fit. The statsmodel package WLS function allows you to take the uncertainties of each data point into account when you fit your model. It takes the parameter weights, which is the inverse of your errors:\n",
    "weights = 1.0/df.yerror\n",
    "Notice that \n",
    "    a - sqrt(0) = 0\n",
    "    b - 1/0 = infinity\n",
    "    c - you cannot have weight that are infinity in your fit. Please come up with a solution and justify it.\n",
    "\n",
    "\n",
    "the latter three you can learn about in this example: https://github.com/fedhere/PUI2017_fb55/blob/master/Lab5_fb55/genderIncomeBias.ipynb\n",
    "Since we did not discuss these, I will add some notes to the repo in the afternoon.\n",
    "\n",
    "Use the seaborn python package built in regression function  to plot the regression confidence intervals. \n",
    "\n",
    "import seaborn  as sns\n",
    "sns.regplot(x=\"x\", y=\"y\", data=df);\n",
    "\n",
    "\n"
   ]
  },
  {
   "cell_type": "code",
   "execution_count": 12,
   "metadata": {},
   "outputs": [
    {
     "name": "stderr",
     "output_type": "stream",
     "text": [
      "/Users/bensteers/Desktop/Storage/NYU/Fall2017/PUI/.direnv/python-3.5.2/lib/python3.5/site-packages/statsmodels/compat/pandas.py:56: FutureWarning: The pandas.core.datetools module is deprecated and will be removed in a future version. Please use the pandas.tseries module instead.\n",
      "  from pandas.core import datetools\n"
     ]
    }
   ],
   "source": [
    "import seaborn as sns\n",
    "import statsmodels.api as sm"
   ]
  },
  {
   "cell_type": "code",
   "execution_count": 13,
   "metadata": {},
   "outputs": [],
   "source": [
    "# Select data and colors\n",
    "# x, y = df_['Average total all civilian firearms'], df_['shootingspp']\n",
    "x = df_[\"Average total all civilian firearms\"] / df_[\"pop\"]\n",
    "y = df_[\"Number of mass shootings\"] / df_[\"pop\"]\n",
    "colors = (df_['Country Name'] == 'United States').map({0:'b', 1:'r'})\n",
    "\n",
    "# Normalizing\n",
    "x = (x - x.mean()) / x.std()\n",
    "y = (y - y.mean()) / y.std()"
   ]
  },
  {
   "cell_type": "markdown",
   "metadata": {},
   "source": [
    "### Develop a solution for variable weighting when errors equal zero.\n",
    "The original equation, $w=1/e$, is a discontinuous equation, approaching $\\infty$ as $x$ approaches zero. To fix this, the equation is approximated by the following (general form) equation.\n",
    "$$w = 1 / (e^2+P^{-b})^{1/b}$$\n",
    "\n",
    "$w$: weights\n",
    "\n",
    "$e$: errors\n",
    "\n",
    "$P$: The peak value at $x=0$.\n",
    "\n",
    "$b$: The spread of the peak. Higher values yield a more narrow peak. 2 is used to be most symmetric with respect to the power applied to the errors.\n",
    "\n",
    "The specific form of the equation used in this problem is:\n",
    "$$w = 1 / \\sqrt{e^2+0.01}$$"
   ]
  },
  {
   "cell_type": "code",
   "execution_count": 14,
   "metadata": {},
   "outputs": [],
   "source": [
    "# Defining error weight function\n",
    "def error_weighting(e, peak=10, scale=2):\n",
    "    '''Perform error weighting, avioding the undefined case where error is zero.\n",
    "    \n",
    "    Arguments:\n",
    "        e (float or np.array): the error(s) to be used for weighting\n",
    "        peak (float, default: 10): The maximum value to use in place of infinity\n",
    "        scale (float, default: 2): The power that the denominator is set to. \n",
    "                                   Higher values yield a narrower weighting function\n",
    "    returns:\n",
    "        weights (same type as e): The calculated weights\n",
    "    '''\n",
    "    return 1. / (np.square(e) + float(peak)**(-scale)) ** (1./scale)"
   ]
  },
  {
   "cell_type": "code",
   "execution_count": 15,
   "metadata": {},
   "outputs": [
    {
     "data": {
      "image/png": "[encoded data removed]",
      "text/plain": [
       "<matplotlib.figure.Figure at 0x1079b9588>"
      ]
     },
     "metadata": {},
     "output_type": "display_data"
    },
    {
     "data": {
      "text/markdown": [
       "\n",
       "**Figure 6**: This plot shows the new error function as it compares to the old error function. As it can be seen, \n",
       "the new weighting function closely follows the original function until the original function begins diverging \n",
       "around 0.2.\n"
      ],
      "text/plain": [
       "<IPython.core.display.Markdown object>"
      ]
     },
     "execution_count": 15,
     "metadata": {},
     "output_type": "execute_result"
    }
   ],
   "source": [
    "# Demonstrating the new error weighting function\n",
    "err_x = np.linspace(-2, 2, 1000)\n",
    "pl.plot(err_x, error_weighting(err_x), label='peak=10, scale=2')\n",
    "pl.plot(err_x, error_weighting(err_x, scale=3), label='peak=10, scale=3')\n",
    "pl.plot(err_x, np.abs(1/err_x), label='original function')\n",
    "pl.title('Demonstration of the new error function')\n",
    "pl.ylim([0, 15])\n",
    "pl.legend()\n",
    "pl.show()\n",
    "Markdown(\"\"\"\n",
    "**Figure 6**: This plot shows the new error function as it compares to the old error function. As it can be seen, \n",
    "the new weighting function closely follows the original function until the original function begins diverging \n",
    "around 0.2.\n",
    "\"\"\")"
   ]
  },
  {
   "cell_type": "code",
   "execution_count": 16,
   "metadata": {},
   "outputs": [
    {
     "data": {
      "text/html": [
       "<table class=\"simpletable\">\n",
       "<caption>OLS Regression Results</caption>\n",
       "<tr>\n",
       "  <th>Dep. Variable:</th>            <td>y</td>        <th>  R-squared:         </th> <td>   0.199</td>\n",
       "</tr>\n",
       "<tr>\n",
       "  <th>Model:</th>                   <td>OLS</td>       <th>  Adj. R-squared:    </th> <td>   0.159</td>\n",
       "</tr>\n",
       "<tr>\n",
       "  <th>Method:</th>             <td>Least Squares</td>  <th>  F-statistic:       </th> <td>   4.971</td>\n",
       "</tr>\n",
       "<tr>\n",
       "  <th>Date:</th>             <td>Tue, 17 Oct 2017</td> <th>  Prob (F-statistic):</th>  <td>0.0374</td> \n",
       "</tr>\n",
       "<tr>\n",
       "  <th>Time:</th>                 <td>22:35:56</td>     <th>  Log-Likelihood:    </th> <td> -28.263</td>\n",
       "</tr>\n",
       "<tr>\n",
       "  <th>No. Observations:</th>      <td>    22</td>      <th>  AIC:               </th> <td>   60.53</td>\n",
       "</tr>\n",
       "<tr>\n",
       "  <th>Df Residuals:</th>          <td>    20</td>      <th>  BIC:               </th> <td>   62.71</td>\n",
       "</tr>\n",
       "<tr>\n",
       "  <th>Df Model:</th>              <td>     1</td>      <th>                     </th>     <td> </td>   \n",
       "</tr>\n",
       "<tr>\n",
       "  <th>Covariance Type:</th>      <td>nonrobust</td>    <th>                     </th>     <td> </td>   \n",
       "</tr>\n",
       "</table>\n",
       "<table class=\"simpletable\">\n",
       "<tr>\n",
       "    <td></td>       <th>coef</th>     <th>std err</th>      <th>t</th>      <th>P>|t|</th>  <th>[0.025</th>    <th>0.975]</th>  \n",
       "</tr>\n",
       "<tr>\n",
       "  <th>const</th> <td>-5.551e-17</td> <td>    0.196</td> <td>-2.84e-16</td> <td> 1.000</td> <td>   -0.408</td> <td>    0.408</td>\n",
       "</tr>\n",
       "<tr>\n",
       "  <th>0</th>     <td>    0.4462</td> <td>    0.200</td> <td>    2.230</td> <td> 0.037</td> <td>    0.029</td> <td>    0.864</td>\n",
       "</tr>\n",
       "</table>\n",
       "<table class=\"simpletable\">\n",
       "<tr>\n",
       "  <th>Omnibus:</th>       <td>34.840</td> <th>  Durbin-Watson:     </th> <td>   1.830</td>\n",
       "</tr>\n",
       "<tr>\n",
       "  <th>Prob(Omnibus):</th> <td> 0.000</td> <th>  Jarque-Bera (JB):  </th> <td>  88.018</td>\n",
       "</tr>\n",
       "<tr>\n",
       "  <th>Skew:</th>          <td> 2.733</td> <th>  Prob(JB):          </th> <td>7.71e-20</td>\n",
       "</tr>\n",
       "<tr>\n",
       "  <th>Kurtosis:</th>      <td>11.133</td> <th>  Cond. No.          </th> <td>    1.02</td>\n",
       "</tr>\n",
       "</table>"
      ],
      "text/plain": [
       "<class 'statsmodels.iolib.summary.Summary'>\n",
       "\"\"\"\n",
       "                            OLS Regression Results                            \n",
       "==============================================================================\n",
       "Dep. Variable:                      y   R-squared:                       0.199\n",
       "Model:                            OLS   Adj. R-squared:                  0.159\n",
       "Method:                 Least Squares   F-statistic:                     4.971\n",
       "Date:                Tue, 17 Oct 2017   Prob (F-statistic):             0.0374\n",
       "Time:                        22:35:56   Log-Likelihood:                -28.263\n",
       "No. Observations:                  22   AIC:                             60.53\n",
       "Df Residuals:                      20   BIC:                             62.71\n",
       "Df Model:                           1                                         \n",
       "Covariance Type:            nonrobust                                         \n",
       "==============================================================================\n",
       "                 coef    std err          t      P>|t|      [0.025      0.975]\n",
       "------------------------------------------------------------------------------\n",
       "const      -5.551e-17      0.196  -2.84e-16      1.000      -0.408       0.408\n",
       "0              0.4462      0.200      2.230      0.037       0.029       0.864\n",
       "==============================================================================\n",
       "Omnibus:                       34.840   Durbin-Watson:                   1.830\n",
       "Prob(Omnibus):                  0.000   Jarque-Bera (JB):               88.018\n",
       "Skew:                           2.733   Prob(JB):                     7.71e-20\n",
       "Kurtosis:                      11.133   Cond. No.                         1.02\n",
       "==============================================================================\n",
       "\n",
       "Warnings:\n",
       "[1] Standard Errors assume that the covariance matrix of the errors is correctly specified.\n",
       "\"\"\""
      ]
     },
     "execution_count": 16,
     "metadata": {},
     "output_type": "execute_result"
    }
   ],
   "source": [
    "ols_model = sm.OLS(y, sm.add_constant(x)).fit()\n",
    "ols_model.summary()"
   ]
  },
  {
   "cell_type": "code",
   "execution_count": 17,
   "metadata": {},
   "outputs": [
    {
     "data": {
      "text/html": [
       "<table class=\"simpletable\">\n",
       "<caption>WLS Regression Results</caption>\n",
       "<tr>\n",
       "  <th>Dep. Variable:</th>            <td>y</td>        <th>  R-squared:         </th> <td>   0.261</td>\n",
       "</tr>\n",
       "<tr>\n",
       "  <th>Model:</th>                   <td>WLS</td>       <th>  Adj. R-squared:    </th> <td>   0.224</td>\n",
       "</tr>\n",
       "<tr>\n",
       "  <th>Method:</th>             <td>Least Squares</td>  <th>  F-statistic:       </th> <td>   7.060</td>\n",
       "</tr>\n",
       "<tr>\n",
       "  <th>Date:</th>             <td>Tue, 17 Oct 2017</td> <th>  Prob (F-statistic):</th>  <td>0.0151</td> \n",
       "</tr>\n",
       "<tr>\n",
       "  <th>Time:</th>                 <td>22:35:56</td>     <th>  Log-Likelihood:    </th> <td> -20.665</td>\n",
       "</tr>\n",
       "<tr>\n",
       "  <th>No. Observations:</th>      <td>    22</td>      <th>  AIC:               </th> <td>   45.33</td>\n",
       "</tr>\n",
       "<tr>\n",
       "  <th>Df Residuals:</th>          <td>    20</td>      <th>  BIC:               </th> <td>   47.51</td>\n",
       "</tr>\n",
       "<tr>\n",
       "  <th>Df Model:</th>              <td>     1</td>      <th>                     </th>     <td> </td>   \n",
       "</tr>\n",
       "<tr>\n",
       "  <th>Covariance Type:</th>      <td>nonrobust</td>    <th>                     </th>     <td> </td>   \n",
       "</tr>\n",
       "</table>\n",
       "<table class=\"simpletable\">\n",
       "<tr>\n",
       "    <td></td>       <th>coef</th>     <th>std err</th>      <th>t</th>      <th>P>|t|</th>  <th>[0.025</th>    <th>0.975]</th>  \n",
       "</tr>\n",
       "<tr>\n",
       "  <th>const</th> <td>   -0.1057</td> <td>    0.127</td> <td>   -0.831</td> <td> 0.416</td> <td>   -0.371</td> <td>    0.160</td>\n",
       "</tr>\n",
       "<tr>\n",
       "  <th>0</th>     <td>    0.4088</td> <td>    0.154</td> <td>    2.657</td> <td> 0.015</td> <td>    0.088</td> <td>    0.730</td>\n",
       "</tr>\n",
       "</table>\n",
       "<table class=\"simpletable\">\n",
       "<tr>\n",
       "  <th>Omnibus:</th>       <td>20.657</td> <th>  Durbin-Watson:     </th> <td>   1.725</td>\n",
       "</tr>\n",
       "<tr>\n",
       "  <th>Prob(Omnibus):</th> <td> 0.000</td> <th>  Jarque-Bera (JB):  </th> <td>  26.440</td>\n",
       "</tr>\n",
       "<tr>\n",
       "  <th>Skew:</th>          <td> 1.875</td> <th>  Prob(JB):          </th> <td>1.81e-06</td>\n",
       "</tr>\n",
       "<tr>\n",
       "  <th>Kurtosis:</th>      <td> 6.845</td> <th>  Cond. No.          </th> <td>    1.22</td>\n",
       "</tr>\n",
       "</table>"
      ],
      "text/plain": [
       "<class 'statsmodels.iolib.summary.Summary'>\n",
       "\"\"\"\n",
       "                            WLS Regression Results                            \n",
       "==============================================================================\n",
       "Dep. Variable:                      y   R-squared:                       0.261\n",
       "Model:                            WLS   Adj. R-squared:                  0.224\n",
       "Method:                 Least Squares   F-statistic:                     7.060\n",
       "Date:                Tue, 17 Oct 2017   Prob (F-statistic):             0.0151\n",
       "Time:                        22:35:56   Log-Likelihood:                -20.665\n",
       "No. Observations:                  22   AIC:                             45.33\n",
       "Df Residuals:                      20   BIC:                             47.51\n",
       "Df Model:                           1                                         \n",
       "Covariance Type:            nonrobust                                         \n",
       "==============================================================================\n",
       "                 coef    std err          t      P>|t|      [0.025      0.975]\n",
       "------------------------------------------------------------------------------\n",
       "const         -0.1057      0.127     -0.831      0.416      -0.371       0.160\n",
       "0              0.4088      0.154      2.657      0.015       0.088       0.730\n",
       "==============================================================================\n",
       "Omnibus:                       20.657   Durbin-Watson:                   1.725\n",
       "Prob(Omnibus):                  0.000   Jarque-Bera (JB):               26.440\n",
       "Skew:                           1.875   Prob(JB):                     1.81e-06\n",
       "Kurtosis:                       6.845   Cond. No.                         1.22\n",
       "==============================================================================\n",
       "\n",
       "Warnings:\n",
       "[1] Standard Errors assume that the covariance matrix of the errors is correctly specified.\n",
       "\"\"\""
      ]
     },
     "execution_count": 17,
     "metadata": {},
     "output_type": "execute_result"
    }
   ],
   "source": [
    "wls_model = sm.WLS(y, sm.add_constant(x), weights=error_weighting(np.sqrt(np.abs(y)))).fit()\n",
    "wls_model.summary()"
   ]
  },
  {
   "cell_type": "code",
   "execution_count": 18,
   "metadata": {},
   "outputs": [
    {
     "name": "stderr",
     "output_type": "stream",
     "text": [
      "/Users/bensteers/Desktop/Storage/NYU/Fall2017/PUI/.direnv/python-3.5.2/lib/python3.5/site-packages/ipykernel_launcher.py:21: RuntimeWarning: invalid value encountered in sqrt\n",
      "/Users/bensteers/Desktop/Storage/NYU/Fall2017/PUI/.direnv/python-3.5.2/lib/python3.5/site-packages/ipykernel_launcher.py:30: RuntimeWarning: invalid value encountered in sqrt\n"
     ]
    },
    {
     "data": {
      "image/png": "[encoded data removed]",
      "text/plain": [
       "<matplotlib.figure.Figure at 0x10b3acf98>"
      ]
     },
     "metadata": {},
     "output_type": "display_data"
    },
    {
     "data": {
      "text/markdown": [
       "\n",
       "**Figure 7a**: This plot shows the the number of mass shootings against the number of civilian firearms.\n",
       "\n",
       "**Figure 7b**: This plot is the same as Figure 7a, with the regression line and confidence interval plotted over it.\n",
       "\n",
       "**Figure 7c**: This plot shows Figure 7a with the OLS regression on top.\n",
       "\n",
       "**Figure 7d**: This plot shows Figure 7a with the OLS and WLS regression on top. Both regressions show \n",
       "similar results. \n"
      ],
      "text/plain": [
       "<IPython.core.display.Markdown object>"
      ]
     },
     "execution_count": 18,
     "metadata": {},
     "output_type": "execute_result"
    }
   ],
   "source": [
    "pl.figure(figsize=(15,10)) \n",
    "\n",
    "# Plot without error bars\n",
    "pl.subplot(2, 2, 1)\n",
    "pl.scatter(x, y, color=colors)\n",
    "pl.title('N mass shootings against N civilian firearms')\n",
    "pl.xlabel(\"number of civilian firearms\")\n",
    "pl.ylabel(\"number of mass shootings\")\n",
    "\n",
    "# Plot seaborn regression\n",
    "pl.subplot(2, 2, 2)\n",
    "pl.scatter(x, y, color=colors)\n",
    "sns.regplot(x, y, scatter=False)\n",
    "pl.title('N mass shootings against N civilian firearms')\n",
    "pl.xlabel(\"number of civilian firearms\")\n",
    "pl.ylabel(\"number of mass shootings\")\n",
    "\n",
    "# Plot of OLS fit\n",
    "pl.subplot(2, 2, 3)\n",
    "pl.scatter(x, y, color=colors)\n",
    "pl.errorbar(x, y, yerr=np.sqrt(y), fmt='.', color='k')\n",
    "pl.plot(x, ols_model.fittedvalues)\n",
    "pl.title('N mass shootings against N of civilian firearms w/ error bars')\n",
    "pl.xlabel(\"number of civilian firearms\")\n",
    "pl.ylabel(\"number of mass shootings\")\n",
    "\n",
    "# Plot of OLS and WLS fit\n",
    "pl.subplot(2, 2, 4)\n",
    "pl.scatter(x, y, color=colors)\n",
    "pl.errorbar(x, y, yerr=np.sqrt(y), fmt='.', color='k')\n",
    "pl.plot(x, ols_model.fittedvalues, label='OLS')\n",
    "pl.plot(x, wls_model.fittedvalues, label='WLS')\n",
    "pl.title('N mass shootings against N of civilian firearms w/ error bars')\n",
    "pl.xlabel(\"number of civilian firearms\")\n",
    "pl.ylabel(\"number of mass shootings\")\n",
    "pl.legend()\n",
    "pl.show()\n",
    "Markdown(\"\"\"\n",
    "**Figure 7a**: This plot shows the the number of mass shootings against the number of civilian firearms.\n",
    "\n",
    "**Figure 7b**: This plot is the same as Figure 7a, with the regression line and confidence interval plotted over it.\n",
    "\n",
    "**Figure 7c**: This plot shows Figure 7a with the OLS regression on top.\n",
    "\n",
    "**Figure 7d**: This plot shows Figure 7a with the OLS and WLS regression on top. Both regressions show \n",
    "similar results. \n",
    "\"\"\")"
   ]
  },
  {
   "cell_type": "markdown",
   "metadata": {
    "ExecuteTime": {
     "end_time": "2017-10-12T16:21:08.019663",
     "start_time": "2017-10-12T16:21:08.010876"
    }
   },
   "source": [
    "## Extra credit: calculate the confidence interval by hand and also plot them \n",
    "you can use pylab.fill_between(x, yfit - ci, yfit + ci, alpha=0.5)"
   ]
  },
  {
   "cell_type": "markdown",
   "metadata": {},
   "source": [
    "**Confidence intervals: **\n",
    "there are three type of intervals in a linear regression, plot any one of them all three if you want - how do they compare to the seaborn plot?:\n",
    "\n",
    "1) Confidence intervals for the parameters slope and intercept\n",
    "\n",
    "2) Confidence interval for the average y value\n",
    "\n",
    "3) Prediction interval for a single y value"
   ]
  },
  {
   "cell_type": "markdown",
   "metadata": {},
   "source": [
    "1) __confidence interval of the  model parameters slope and intercept:__\n",
    "define sigma as the sum of the residuals over the square root of number n of observations. \n",
    "\n",
    "sigma: σ̂ =sqrt(Sum((Yoberved_i−Ypredicted_i)^2)/n)\n",
    "\n",
    "where the sum is over all observations\n",
    "\n",
    "Define t_alpha/2,n-2 the t statistics at (1-alpha/2) for a t distribution with n-2 degrees of freedom (you can calculate it with scipy\n",
    "tp = sp.stats.t.ppf(0.975, n-2)\n",
    "\n"
   ]
  },
  {
   "cell_type": "code",
   "execution_count": 19,
   "metadata": {
    "ExecuteTime": {
     "end_time": "2017-10-12T15:42:26.836222",
     "start_time": "2017-10-12T15:42:26.819963"
    }
   },
   "outputs": [],
   "source": [
    "# from IPython.display import Image\n",
    "# Image(filename=\"../Lab5_fb55/confidence_intervals_regression.png\")"
   ]
  },
  {
   "cell_type": "code",
   "execution_count": 20,
   "metadata": {
    "ExecuteTime": {
     "end_time": "2017-10-12T15:54:20.748008",
     "start_time": "2017-10-12T15:54:20.736381"
    }
   },
   "outputs": [],
   "source": [
    "# from IPython.display import Image\n",
    "# Image(filename=\"../Lab5_fb55/confidence_intervals_regression2.png\")"
   ]
  },
  {
   "cell_type": "markdown",
   "metadata": {},
   "source": [
    "[proof](https://onlinecourses.science.psu.edu/stat414/node/280)"
   ]
  },
  {
   "cell_type": "markdown",
   "metadata": {},
   "source": [
    "2) **A confidence interval for E(y | x) , the expected (average) value of y for a given x_**\n",
    "\n",
    "define s: residual standard error sy = sqrt(Sum((y_observed-y_predicted)^2)/(n-2))\n",
    "\n",
    "(note: n-2 is the degrees of freedom of the problem: observations - number of parameters - 1)\n",
    "\n",
    "the confidence interval for a given y(x*) is: \n",
    "\n",
    "y_predicted(x*) +/- t_(alpha/2)(n-2) * sy * sqrt( 1/n + (x* - mean(x)^2) / sum((x* - mean(x)^2)"
   ]
  },
  {
   "cell_type": "code",
   "execution_count": 21,
   "metadata": {
    "ExecuteTime": {
     "end_time": "2017-10-12T16:09:14.173143",
     "start_time": "2017-10-12T16:09:14.161088"
    }
   },
   "outputs": [],
   "source": [
    "# from IPython.display import Image\n",
    "# Image(filename=\"../Lab5_fb55/ciY.png\")"
   ]
  },
  {
   "cell_type": "markdown",
   "metadata": {},
   "source": [
    "3) **Confidence intervals for average y (predicted) values**\n",
    "\n",
    "y_predicted(x*) +/- t_(n-2) * sy * sqrt( 1 + 1/n + (x* - mean(x)^2) / sum((x* - mean(x)^2)\n",
    "\n",
    "very similar, but note the +1 in the square root"
   ]
  },
  {
   "cell_type": "code",
   "execution_count": 22,
   "metadata": {
    "ExecuteTime": {
     "end_time": "2017-10-12T16:08:46.077157",
     "start_time": "2017-10-12T16:08:46.067407"
    }
   },
   "outputs": [],
   "source": [
    "# from IPython.display import Image\n",
    "# Image(filename=\"../Lab5_fb55/ciYaverage.png\")"
   ]
  },
  {
   "cell_type": "code",
   "execution_count": 23,
   "metadata": {
    "ExecuteTime": {
     "end_time": "2017-10-12T16:36:39.238967",
     "start_time": "2017-10-12T16:36:38.688004"
    }
   },
   "outputs": [],
   "source": [
    "# pl.figure()\n",
    "# import seaborn  as sns\n",
    "# sns.regplot(x=\"x\", y=\"y\", data=df_);\n",
    "\n",
    "# pl.ylabel(\"Mass shootings\")\n",
    "# pl.xlabel(\"Fire arms\");"
   ]
  },
  {
   "cell_type": "markdown",
   "metadata": {},
   "source": [
    "## Use the stsatsmodels.gaphics package to plot the influence plot. \n",
    "Read the package documentation to learn how to read this plot and extract the countries with the highest influence\n",
    "\n",
    "This is the topic of this week's assigned reading, so make sure you do the reading before you do this step. It will help you interpret the plot."
   ]
  },
  {
   "cell_type": "code",
   "execution_count": 24,
   "metadata": {
    "ExecuteTime": {
     "end_time": "2017-10-11T07:46:21.766085",
     "start_time": "2017-10-11T07:46:21.412498"
    }
   },
   "outputs": [],
   "source": [
    "# sm.graphics.influence_plot(modelOLS, alpha  = 0.05, criterion=\"cooks\");"
   ]
  },
  {
   "cell_type": "markdown",
   "metadata": {},
   "source": [
    "## Extra credit: calculate from scratch the stanrdardized residuals and the H leverage for the WLS model and discuss if there are any differences"
   ]
  },
  {
   "cell_type": "markdown",
   "metadata": {},
   "source": [
    "## Discuss your findings"
   ]
  },
  {
   "cell_type": "code",
   "execution_count": null,
   "metadata": {},
   "outputs": [],
   "source": []
  }
 ],
 "metadata": {
  "anaconda-cloud": {},
  "kernelspec": {
   "display_name": "Python 3",
   "language": "python",
   "name": "python3"
  },
  "language_info": {
   "codemirror_mode": {
    "name": "ipython",
    "version": 3
   },
   "file_extension": ".py",
   "mimetype": "text/x-python",
   "name": "python",
   "nbconvert_exporter": "python",
   "pygments_lexer": "ipython3",
   "version": "3.5.2"
  },
  "latex_envs": {
   "LaTeX_envs_menu_present": true,
   "bibliofile": "biblio.bib",
   "cite_by": "apalike",
   "current_citInitial": 1,
   "eqLabelWithNumbers": true,
   "eqNumInitial": 1,
   "hotkeys": {
    "equation": "Ctrl-E",
    "itemize": "Ctrl-I"
   },
   "labels_anchors": false,
   "latex_user_defs": false,
   "report_style_numbering": false,
   "user_envs_cfg": false
  },
  "toc": {
   "colors": {
    "hover_highlight": "#DAA520",
    "running_highlight": "#FF0000",
    "selected_highlight": "#FFD700"
   },
   "moveMenuLeft": true,
   "nav_menu": {
    "height": "13px",
    "width": "251px"
   },
   "navigate_menu": true,
   "number_sections": true,
   "sideBar": true,
   "threshold": 4,
   "toc_cell": true,
   "toc_section_display": "block",
   "toc_window_display": true
  }
 },
 "nbformat": 4,
 "nbformat_minor": 1
}

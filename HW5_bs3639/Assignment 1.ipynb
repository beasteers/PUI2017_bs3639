{
 "cells": [
  {
   "cell_type": "code",
   "execution_count": 1,
   "metadata": {},
   "outputs": [],
   "source": [
    "import numpy as np\n",
    "import scipy.stats as st\n",
    "import scipy.optimize as opt\n",
    "import matplotlib.mlab as mlab\n",
    "import matplotlib.pyplot as plt\n",
    "%matplotlib inline\n",
    "\n",
    "from IPython.display import display as d\n",
    "from IPython.display import Markdown"
   ]
  },
  {
   "cell_type": "code",
   "execution_count": 2,
   "metadata": {},
   "outputs": [],
   "source": [
    "np.random.seed(123456)\n",
    "n_samples = 2000\n",
    "sample_size = 1000\n",
    "mu = 100\n",
    "sigma = 20\n",
    "# Significance level for KS\n",
    "alpha = 0.05\n",
    "c_a = 1.36"
   ]
  },
  {
   "cell_type": "code",
   "execution_count": 3,
   "metadata": {},
   "outputs": [],
   "source": [
    "def zscore(x, mu=mu, sigma=sigma):\n",
    "    '''Calculate the z score for a sample\n",
    "    \n",
    "    Arguments:\n",
    "    x (np.array or iterable of float): the sample\n",
    "    mu: The population mean\n",
    "    sigma: the population standard deviation\n",
    "    \n",
    "    returns:\n",
    "    z score (float)\n",
    "    '''\n",
    "    mean, N = np.mean(x), len(x)\n",
    "    return (mu - mean) / sigma * np.sqrt(N)"
   ]
  },
  {
   "cell_type": "code",
   "execution_count": 4,
   "metadata": {},
   "outputs": [],
   "source": [
    "dists = [\n",
    "    np.random.poisson(lam=mu, size=sample_size)\n",
    "    for _ in range(n_samples)\n",
    "]"
   ]
  },
  {
   "cell_type": "code",
   "execution_count": 5,
   "metadata": {},
   "outputs": [
    {
     "data": {
      "image/png": "[encoded data removed]",
      "text/plain": [
       "<matplotlib.figure.Figure at 0x1046fb4e0>"
      ]
     },
     "metadata": {},
     "output_type": "display_data"
    },
    {
     "data": {
      "text/markdown": [
       "\n",
       "**Figure 1:** The distribution of all points from 2000 Poisson distribution samples of size 1000 \n",
       "with $\\mu=100$ and $\\sigma=20$.\n"
      ],
      "text/plain": [
       "<IPython.core.display.Markdown object>"
      ]
     },
     "execution_count": 5,
     "metadata": {},
     "output_type": "execute_result"
    }
   ],
   "source": [
    "plt.hist(np.array(dists).flatten())\n",
    "plt.title(r'Poisson Distribution, $\\mu={}$, $\\sigma={}$'.format(mu, sigma))\n",
    "plt.xlabel('X')\n",
    "plt.ylabel('N')\n",
    "plt.show()\n",
    "Markdown('''\n",
    "**Figure 1:** The distribution of all points from {} Poisson distribution samples of size {} \n",
    "with $\\mu={}$ and $\\sigma={}$.\n",
    "'''.format(n_samples, sample_size, mu, sigma))"
   ]
  },
  {
   "cell_type": "code",
   "execution_count": 6,
   "metadata": {},
   "outputs": [
    {
     "data": {
      "image/png": "[encoded data removed]",
      "text/plain": [
       "<matplotlib.figure.Figure at 0x108308278>"
      ]
     },
     "metadata": {},
     "output_type": "display_data"
    },
    {
     "data": {
      "text/markdown": [
       "\n",
       "**Figure 2:** The distribution of a sample Poisson distribution of size 1000 \n",
       "with $\\mu=100$ and $\\sigma=20$.\n"
      ],
      "text/plain": [
       "<IPython.core.display.Markdown object>"
      ]
     },
     "execution_count": 6,
     "metadata": {},
     "output_type": "execute_result"
    }
   ],
   "source": [
    "plt.hist(dists[0])\n",
    "plt.title(r'Sample Poisson Distribution, $\\mu={}$, $\\sigma={}$'.format(mu, sigma))\n",
    "plt.xlabel('X')\n",
    "plt.ylabel('N')\n",
    "plt.show()\n",
    "Markdown('''\n",
    "**Figure 2:** The distribution of a sample Poisson distribution of size {} \n",
    "with $\\mu={}$ and $\\sigma={}$.\n",
    "'''.format(sample_size, mu, sigma))"
   ]
  },
  {
   "cell_type": "code",
   "execution_count": 7,
   "metadata": {},
   "outputs": [
    {
     "data": {
      "image/png": "[encoded data removed]",
      "text/plain": [
       "<matplotlib.figure.Figure at 0x108390c50>"
      ]
     },
     "metadata": {},
     "output_type": "display_data"
    },
    {
     "data": {
      "text/markdown": [
       "\n",
       "**Figure 3:** The distribution of z statistics for 2000 Poisson distributions of size 1000 \n",
       "with $\\mu=100$ and $\\sigma=20$.\n"
      ],
      "text/plain": [
       "<IPython.core.display.Markdown object>"
      ]
     },
     "execution_count": 7,
     "metadata": {},
     "output_type": "execute_result"
    }
   ],
   "source": [
    "z_scores = [zscore(x) for x in dists]\n",
    "plt.hist(z_scores)\n",
    "plt.title(r'Distribution of Z Scores for Poisson Distributions')\n",
    "plt.xlabel('X')\n",
    "plt.ylabel('N')\n",
    "plt.show()\n",
    "Markdown('''\n",
    "**Figure 3:** The distribution of z statistics for {} Poisson distributions of size {} \n",
    "with $\\mu={}$ and $\\sigma={}$.\n",
    "'''.format(n_samples, sample_size, mu, sigma))"
   ]
  },
  {
   "cell_type": "code",
   "execution_count": 8,
   "metadata": {},
   "outputs": [
    {
     "data": {
      "image/png": "[encoded data removed]",
      "text/plain": [
       "<matplotlib.figure.Figure at 0x1085ca6a0>"
      ]
     },
     "metadata": {},
     "output_type": "display_data"
    },
    {
     "data": {
      "text/markdown": [
       "\n",
       "**Figure 4:** The distribution of z scores from 2000 sample Poisson distributions of size 1000, compared against a \n",
       "standard normal distribution.\n"
      ],
      "text/plain": [
       "<IPython.core.display.Markdown object>"
      ]
     },
     "execution_count": 8,
     "metadata": {},
     "output_type": "execute_result"
    }
   ],
   "source": [
    "(mu, sigma) = st.norm.fit(z_scores)\n",
    "bin_vals, bins, _ = plt.hist(z_scores, 20, normed=True)\n",
    "\n",
    "# add a 'best fit' line\n",
    "gaus = mlab.normpdf(bins, mu, sigma)\n",
    "plt.plot(bins, gaus, 'r', linewidth=2)\n",
    "\n",
    "plt.title('Distribution of z values against standard normal distribution')\n",
    "plt.xlabel('Z score')\n",
    "plt.ylabel('N')\n",
    "plt.show()\n",
    "Markdown('''\n",
    "**Figure 4:** The distribution of z scores from {} sample Poisson distributions of size {}, compared against a \n",
    "standard normal distribution.\n",
    "'''.format(n_samples, sample_size))"
   ]
  },
  {
   "cell_type": "code",
   "execution_count": 9,
   "metadata": {},
   "outputs": [
    {
     "name": "stdout",
     "output_type": "stream",
     "text": [
      "Critical KS Value: 0.41970511189689\n"
     ]
    },
    {
     "data": {
      "text/plain": [
       "KstestResult(statistic=0.16932506172820461, pvalue=0.0)"
      ]
     },
     "execution_count": 9,
     "metadata": {},
     "output_type": "execute_result"
    }
   ],
   "source": [
    "print('Critical KS Value: {}'.format(c_a * np.sqrt(2 / len(bins))))\n",
    "st.kstest(z_scores, 'norm')"
   ]
  },
  {
   "cell_type": "markdown",
   "metadata": {},
   "source": [
    "#### Though the p value is close to zero (unsure how close because of a lack of significant digits), the KS value is below the critical KS value, preventing the null hypothesis from being rejected."
   ]
  }
 ],
 "metadata": {
  "kernelspec": {
   "display_name": "Python 3",
   "language": "python",
   "name": "python3"
  },
  "language_info": {
   "codemirror_mode": {
    "name": "ipython",
    "version": 3
   },
   "file_extension": ".py",
   "mimetype": "text/x-python",
   "name": "python",
   "nbconvert_exporter": "python",
   "pygments_lexer": "ipython3",
   "version": "3.5.2"
  }
 },
 "nbformat": 4,
 "nbformat_minor": 2
}

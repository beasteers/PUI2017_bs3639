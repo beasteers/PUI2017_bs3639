{
 "cells": [
  {
   "cell_type": "markdown",
   "metadata": {},
   "source": [
    "# Formulate the Null hypothesis in words and in formulae for the 4 experiments below:"
   ]
  },
  {
   "cell_type": "markdown",
   "metadata": {},
   "source": [
    "### Do diets help lose more fat than the exercise?\n",
    "Experimental setup: you have a test and a control sample."
   ]
  },
  {
   "cell_type": "markdown",
   "metadata": {},
   "source": [
    "**$H_a$**: The change in BMI of people in the diet sample is higher than the change in BMI of people in the exercise sample after 1 year.\n",
    "$$\\Delta BMI_{\\%,diet} > \\Delta BMI_{\\%,exercise}$$\n",
    "\n",
    "**$H_0$**: The average percent change in BMI of people in the diet sample is significantly lower than the average percent change in BMI of people in the exercise sample after X year(s).\n",
    "$$\\Delta BMI_{\\%,diet} \\leq \\Delta BMI_{\\%,exercise}$$"
   ]
  },
  {
   "cell_type": "markdown",
   "metadata": {},
   "source": [
    "### Quantify the danger of smoking for pregnant women. (Olds et al., 1994, p. 223)\n",
    "Experimental setup: measure IQ of children of smokers and non-smokers at age 1, 2, 3, and 4 years."
   ]
  },
  {
   "cell_type": "markdown",
   "metadata": {},
   "source": [
    "**$H_a$**: The IQ of children whose parents smoked during pregnancy is lower than the ID of children whose parents did not smoke during pregnancy.\n",
    "$$\\overline{IQ}_{smoke} < \\overline{IQ}_{no-smoke}$$\n",
    "\n",
    "**$H_0$**: The average IQ of children at ages 1, 2, 3, and 4 whose parents smoked at least X cigarettes a day during pregnancy is the same as or higher than the average IQ of children whose parents did not smoke during pregnancy.\n",
    "$$\\overline{IQ}_{smoke} \\geq \\overline{IQ}_{no-smoke}$$"
   ]
  },
  {
   "cell_type": "markdown",
   "metadata": {},
   "source": [
    "### Food deserts contribute to the incidence of diabetes. \n",
    "Food deserts are defined as parts of the country vapid of fresh fruit, vegetables, and other healthful whole foods, usually found in impoverished areas. This is largely due to a lack of grocery stores, farmers' markets, and healthy food providers."
   ]
  },
  {
   "cell_type": "markdown",
   "metadata": {},
   "source": [
    "**$H_a$**: The distance to healthy foods is correlated to the level of diabetes.\n",
    "$$d_{healthy} \\propto L_{diabetes}$$\n",
    "\n",
    "**$H_0$**: There is no correlation between the distribution of diabetes and the lack of access to healthy food in that location.\n",
    "$$d_{healthy} \\not\\propto L_{diabetes}$$"
   ]
  },
  {
   "cell_type": "markdown",
   "metadata": {},
   "source": [
    "# Bus Times"
   ]
  },
  {
   "cell_type": "markdown",
   "metadata": {},
   "source": [
    "**$H_a$**: The new average bus time is statistically significantly lower than the old average bus time.\n",
    "$$Z \\geq Z_{thresh}$$\n",
    "\n",
    "**$H_0$**: The new average bus time is not statistically significantly lower than the old average bus time.\n",
    "$$Z < Z_{thresh}$$\n",
    "\n",
    "Significance level: $\\alpha = 0.05$\n",
    "\n",
    "Critical value: $Z_{thresh} = -1.645$"
   ]
  },
  {
   "cell_type": "code",
   "execution_count": 8,
   "metadata": {
    "collapsed": true
   },
   "outputs": [],
   "source": [
    "from __future__ import print_function\n",
    "import numpy as np\n",
    "try:\n",
    "    import urllib2 as urllib\n",
    "except ImportError:\n",
    "    import urllib.request as urllib"
   ]
  },
  {
   "cell_type": "code",
   "execution_count": 2,
   "metadata": {
    "collapsed": true
   },
   "outputs": [],
   "source": [
    "data_url = 'https://github.com/fedhere/PUI2017_fb55/raw/master/Lab3_fb55/times.txt'\n",
    "old_mu = 36\n",
    "old_sigma = 6\n",
    "Z_critical_value = -1.645"
   ]
  },
  {
   "cell_type": "code",
   "execution_count": 10,
   "metadata": {
    "collapsed": false
   },
   "outputs": [
    {
     "name": "stdout",
     "output_type": "stream",
     "text": [
      "Data Type: float64\n",
      "Data Shape: (100,)\n",
      "\n",
      "Time Mean: 34.4661616883\n",
      "Time Standard Deviation: 7.10150406819\n"
     ]
    },
    {
     "data": {
      "text/plain": [
       "array([ 31.62223931,  32.82137636,  30.2291014 ,  31.41376587,\n",
       "        39.01055035,  34.82207891,  39.87188366,  39.57994562,\n",
       "        31.02658678,  27.66246068])"
      ]
     },
     "execution_count": 10,
     "metadata": {},
     "output_type": "execute_result"
    }
   ],
   "source": [
    "# Load data string from url\n",
    "data_str = urllib.urlopen(data_url).read().decode(\"utf-8\")\n",
    "\n",
    "# Convert line separated strings to np array\n",
    "data = np.array(filter(bool, data_str.split('\\n')), dtype=float)\n",
    "\n",
    "new_mu = data.mean()\n",
    "new_sigma = data.std()\n",
    "\n",
    "print('Data Type:', data.dtype)\n",
    "print('Data Shape:', data.shape)\n",
    "print('')\n",
    "print('Time Mean:', new_mu)\n",
    "print('Time Standard Deviation:', new_sigma)\n",
    "data[:10]"
   ]
  },
  {
   "cell_type": "markdown",
   "metadata": {},
   "source": [
    "### Z Test:\n",
    "$$Z = \\frac{\\mu_{sample} - \\mu_{pop}}{\\sigma / \\sqrt{N}}$$"
   ]
  },
  {
   "cell_type": "code",
   "execution_count": 11,
   "metadata": {
    "collapsed": false
   },
   "outputs": [
    {
     "name": "stdout",
     "output_type": "stream",
     "text": [
      "Z score / Critical Value: -2.56 / -1.65\n"
     ]
    }
   ],
   "source": [
    "Z = (new_mu - old_mu) * np.sqrt(len(data)) / old_sigma\n",
    "\n",
    "print('Z score / Critical Value: {:.2f} / {:.2f}'.format(Z, Z_critical_value))"
   ]
  },
  {
   "cell_type": "markdown",
   "metadata": {},
   "source": [
    "### The Z score exceeded the critical value, showing statistical significance of 0.05. This means that the null hypothesis can be rejected."
   ]
  },
  {
   "cell_type": "markdown",
   "metadata": {},
   "source": [
    "\n",
    "\n",
    "\n",
    "\n",
    "\n",
    "\n",
    "\n",
    "\n"
   ]
  }
 ],
 "metadata": {
  "kernelspec": {
   "display_name": "PUI2016_Python2",
   "language": "python",
   "name": "pui2016_python2"
  },
  "language_info": {
   "codemirror_mode": {
    "name": "ipython",
    "version": 2
   },
   "file_extension": ".py",
   "mimetype": "text/x-python",
   "name": "python",
   "nbconvert_exporter": "python",
   "pygments_lexer": "ipython2",
   "version": "2.7.12"
  }
 },
 "nbformat": 4,
 "nbformat_minor": 0
}

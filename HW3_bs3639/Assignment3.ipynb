{
 "cells": [
  {
   "cell_type": "markdown",
   "metadata": {},
   "source": [
    "# Formulate the Null hypothesis in words and in formulae for the 4 experiments below:"
   ]
  },
  {
   "cell_type": "markdown",
   "metadata": {},
   "source": [
    "### Do diets help lose more fat than the exercise?\n",
    "Experimental setup: you have a test and a control sample."
   ]
  },
  {
   "cell_type": "markdown",
   "metadata": {},
   "source": [
    "**$H_a$**: The change in BMI of people in the diet sample is higher than the change in BMI of people in the exercise sample after 1 year.\n",
    "$$\\Delta BMI_{\\%,diet} > \\Delta BMI_{\\%,exercise}$$\n",
    "\n",
    "**$H_0$**: The average percent change in BMI of people in the diet sample is significantly lower than the average percent change in BMI of people in the exercise sample after X year(s).\n",
    "$$\\Delta BMI_{\\%,diet} \\leq \\Delta BMI_{\\%,exercise}$$"
   ]
  },
  {
   "cell_type": "markdown",
   "metadata": {},
   "source": [
    "### Quantify the danger of smoking for pregnant women. (Olds et al., 1994, p. 223)\n",
    "Experimental setup: measure IQ of children of smokers and non-smokers at age 1, 2, 3, and 4 years."
   ]
  },
  {
   "cell_type": "markdown",
   "metadata": {},
   "source": [
    "**$H_a$**: The IQ of children whose parents smoked during pregnancy is lower than the ID of children whose parents did not smoke during pregnancy.\n",
    "$$\\overline{IQ}_{smoke} < \\overline{IQ}_{no-smoke}$$\n",
    "\n",
    "**$H_0$**: The average IQ of children at ages 1, 2, 3, and 4 whose parents smoked at least X cigarettes a day during pregnancy is the same as or higher than the average IQ of children whose parents did not smoke during pregnancy.\n",
    "$$\\overline{IQ}_{smoke} \\geq \\overline{IQ}_{no-smoke}$$"
   ]
  },
  {
   "cell_type": "markdown",
   "metadata": {},
   "source": [
    "### Food deserts contribute to the incidence of diabetes. \n",
    "Food deserts are defined as parts of the country vapid of fresh fruit, vegetables, and other healthful whole foods, usually found in impoverished areas. This is largely due to a lack of grocery stores, farmers' markets, and healthy food providers."
   ]
  },
  {
   "cell_type": "markdown",
   "metadata": {},
   "source": [
    "**$H_a$**: The lack of access to healthy food contributes to the incidence of diabetes.\n",
    "\n",
    "**$H_0$**: There is no correlation between the distribution of diabetes and the lack of access to healthy food in that location."
   ]
  },
  {
   "cell_type": "markdown",
   "metadata": {},
   "source": [
    "$Z = \\frac{\\mu_{pop} - \\mu_{sample}}{\\sigma / \\sqrt{N}}$"
   ]
  },
  {
   "cell_type": "markdown",
   "metadata": {},
   "source": [
    "\n",
    "\n",
    "\n",
    "\n",
    "\n",
    "\n",
    "\n",
    "\n"
   ]
  }
 ],
 "metadata": {
  "kernelspec": {
   "display_name": "PUI2016_Python2",
   "language": "python",
   "name": "pui2016_python2"
  },
  "language_info": {
   "codemirror_mode": {
    "name": "ipython",
    "version": 2
   },
   "file_extension": ".py",
   "mimetype": "text/x-python",
   "name": "python",
   "nbconvert_exporter": "python",
   "pygments_lexer": "ipython2",
   "version": "2.7.12"
  }
 },
 "nbformat": 4,
 "nbformat_minor": 0
}

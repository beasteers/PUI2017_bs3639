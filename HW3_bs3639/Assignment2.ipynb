{
 "cells": [
  {
   "cell_type": "markdown",
   "metadata": {},
   "source": [
    "# Assignment 2"
   ]
  },
  {
   "cell_type": "code",
   "execution_count": 54,
   "metadata": {
    "collapsed": true
   },
   "outputs": [],
   "source": [
    "import pandas as pd\n",
    "import numpy as np\n",
    "import zipfile\n",
    "import os\n",
    "import io\n",
    "try:\n",
    "    import urllib2 as urllib\n",
    "except ImportError:\n",
    "    import urllib.request as urllib\n",
    "\n",
    "import matplotlib\n",
    "import matplotlib.pyplot as plt\n",
    "%matplotlib inline\n",
    "matplotlib.rcParams['figure.figsize'] = 15, 6\n",
    "\n",
    "from IPython.display import display as D"
   ]
  },
  {
   "cell_type": "code",
   "execution_count": 12,
   "metadata": {
    "collapsed": false
   },
   "outputs": [],
   "source": [
    "# Settings / Constants\n",
    "datestring = '201501'\n",
    "\n",
    "basename = '{}-citibike-tripdata'.format(datestring)\n",
    "url = 'https://s3.amazonaws.com/tripdata/{}.zip'.format(basename)\n",
    "csv_filename = '{}.csv'.format(basename)\n",
    "cache_path = os.path.join(os.getenv('PUIdata', './'), csv_filename)"
   ]
  },
  {
   "cell_type": "code",
   "execution_count": 13,
   "metadata": {
    "collapsed": false
   },
   "outputs": [
    {
     "name": "stdout",
     "output_type": "stream",
     "text": [
      "Loading from local csv file\n",
      "285552 samples\n"
     ]
    },
    {
     "data": {
      "text/html": [
       "<div>\n",
       "<table border=\"1\" class=\"dataframe\">\n",
       "  <thead>\n",
       "    <tr style=\"text-align: right;\">\n",
       "      <th></th>\n",
       "      <th>Unnamed: 0</th>\n",
       "      <th>tripduration</th>\n",
       "      <th>starttime</th>\n",
       "      <th>stoptime</th>\n",
       "      <th>start station id</th>\n",
       "      <th>start station name</th>\n",
       "      <th>start station latitude</th>\n",
       "      <th>start station longitude</th>\n",
       "      <th>end station id</th>\n",
       "      <th>end station name</th>\n",
       "      <th>end station latitude</th>\n",
       "      <th>end station longitude</th>\n",
       "      <th>bikeid</th>\n",
       "      <th>usertype</th>\n",
       "      <th>birth year</th>\n",
       "      <th>gender</th>\n",
       "    </tr>\n",
       "  </thead>\n",
       "  <tbody>\n",
       "    <tr>\n",
       "      <th>0</th>\n",
       "      <td>0</td>\n",
       "      <td>1346</td>\n",
       "      <td>1/1/2015 0:01</td>\n",
       "      <td>1/1/2015 0:24</td>\n",
       "      <td>455</td>\n",
       "      <td>1 Ave &amp; E 44 St</td>\n",
       "      <td>40.750020</td>\n",
       "      <td>-73.969053</td>\n",
       "      <td>265</td>\n",
       "      <td>Stanton St &amp; Chrystie St</td>\n",
       "      <td>40.722293</td>\n",
       "      <td>-73.991475</td>\n",
       "      <td>18660</td>\n",
       "      <td>Subscriber</td>\n",
       "      <td>1960.0</td>\n",
       "      <td>2</td>\n",
       "    </tr>\n",
       "    <tr>\n",
       "      <th>1</th>\n",
       "      <td>1</td>\n",
       "      <td>363</td>\n",
       "      <td>1/1/2015 0:02</td>\n",
       "      <td>1/1/2015 0:08</td>\n",
       "      <td>434</td>\n",
       "      <td>9 Ave &amp; W 18 St</td>\n",
       "      <td>40.743174</td>\n",
       "      <td>-74.003664</td>\n",
       "      <td>482</td>\n",
       "      <td>W 15 St &amp; 7 Ave</td>\n",
       "      <td>40.739355</td>\n",
       "      <td>-73.999318</td>\n",
       "      <td>16085</td>\n",
       "      <td>Subscriber</td>\n",
       "      <td>1963.0</td>\n",
       "      <td>1</td>\n",
       "    </tr>\n",
       "    <tr>\n",
       "      <th>2</th>\n",
       "      <td>2</td>\n",
       "      <td>346</td>\n",
       "      <td>1/1/2015 0:04</td>\n",
       "      <td>1/1/2015 0:10</td>\n",
       "      <td>491</td>\n",
       "      <td>E 24 St &amp; Park Ave S</td>\n",
       "      <td>40.740964</td>\n",
       "      <td>-73.986022</td>\n",
       "      <td>505</td>\n",
       "      <td>6 Ave &amp; W 33 St</td>\n",
       "      <td>40.749013</td>\n",
       "      <td>-73.988484</td>\n",
       "      <td>20845</td>\n",
       "      <td>Subscriber</td>\n",
       "      <td>1974.0</td>\n",
       "      <td>1</td>\n",
       "    </tr>\n",
       "    <tr>\n",
       "      <th>3</th>\n",
       "      <td>3</td>\n",
       "      <td>182</td>\n",
       "      <td>1/1/2015 0:04</td>\n",
       "      <td>1/1/2015 0:07</td>\n",
       "      <td>384</td>\n",
       "      <td>Fulton St &amp; Waverly Ave</td>\n",
       "      <td>40.683178</td>\n",
       "      <td>-73.965964</td>\n",
       "      <td>399</td>\n",
       "      <td>Lafayette Ave &amp; St James Pl</td>\n",
       "      <td>40.688515</td>\n",
       "      <td>-73.964763</td>\n",
       "      <td>19610</td>\n",
       "      <td>Subscriber</td>\n",
       "      <td>1969.0</td>\n",
       "      <td>1</td>\n",
       "    </tr>\n",
       "    <tr>\n",
       "      <th>4</th>\n",
       "      <td>4</td>\n",
       "      <td>969</td>\n",
       "      <td>1/1/2015 0:05</td>\n",
       "      <td>1/1/2015 0:21</td>\n",
       "      <td>474</td>\n",
       "      <td>5 Ave &amp; E 29 St</td>\n",
       "      <td>40.745168</td>\n",
       "      <td>-73.986831</td>\n",
       "      <td>432</td>\n",
       "      <td>E 7 St &amp; Avenue A</td>\n",
       "      <td>40.726218</td>\n",
       "      <td>-73.983799</td>\n",
       "      <td>20197</td>\n",
       "      <td>Subscriber</td>\n",
       "      <td>1977.0</td>\n",
       "      <td>1</td>\n",
       "    </tr>\n",
       "  </tbody>\n",
       "</table>\n",
       "</div>"
      ],
      "text/plain": [
       "   Unnamed: 0  tripduration      starttime       stoptime  start station id  \\\n",
       "0           0          1346  1/1/2015 0:01  1/1/2015 0:24               455   \n",
       "1           1           363  1/1/2015 0:02  1/1/2015 0:08               434   \n",
       "2           2           346  1/1/2015 0:04  1/1/2015 0:10               491   \n",
       "3           3           182  1/1/2015 0:04  1/1/2015 0:07               384   \n",
       "4           4           969  1/1/2015 0:05  1/1/2015 0:21               474   \n",
       "\n",
       "        start station name  start station latitude  start station longitude  \\\n",
       "0          1 Ave & E 44 St               40.750020               -73.969053   \n",
       "1          9 Ave & W 18 St               40.743174               -74.003664   \n",
       "2     E 24 St & Park Ave S               40.740964               -73.986022   \n",
       "3  Fulton St & Waverly Ave               40.683178               -73.965964   \n",
       "4          5 Ave & E 29 St               40.745168               -73.986831   \n",
       "\n",
       "   end station id             end station name  end station latitude  \\\n",
       "0             265     Stanton St & Chrystie St             40.722293   \n",
       "1             482              W 15 St & 7 Ave             40.739355   \n",
       "2             505              6 Ave & W 33 St             40.749013   \n",
       "3             399  Lafayette Ave & St James Pl             40.688515   \n",
       "4             432            E 7 St & Avenue A             40.726218   \n",
       "\n",
       "   end station longitude  bikeid    usertype  birth year  gender  \n",
       "0             -73.991475   18660  Subscriber      1960.0       2  \n",
       "1             -73.999318   16085  Subscriber      1963.0       1  \n",
       "2             -73.988484   20845  Subscriber      1974.0       1  \n",
       "3             -73.964763   19610  Subscriber      1969.0       1  \n",
       "4             -73.983799   20197  Subscriber      1977.0       1  "
      ]
     },
     "execution_count": 13,
     "metadata": {},
     "output_type": "execute_result"
    }
   ],
   "source": [
    "# Load file from either url or cache\n",
    "if os.path.isfile(cache_path):\n",
    "    print('Loading from local csv file')\n",
    "    df = pd.read_csv(cache_path)\n",
    "    \n",
    "else:\n",
    "    print('Loading from aws')\n",
    "    # Get zip buffer\n",
    "    remotezip = urllib.urlopen(url).read()\n",
    "    \n",
    "    # Open in memory\n",
    "    with zipfile.ZipFile(io.BytesIO(remotezip)) as z:\n",
    "        # Read the filename or the first file if there are naming inconsistencies\n",
    "        zip_file_to_read = csv_filename if csv_filename in z.namelist() else z.namelist()[0]\n",
    "        df = pd.read_csv(z.open(zip_file_to_read))\n",
    "    \n",
    "    # Save dataframe as cached \n",
    "    df.to_csv(cache_path)\n",
    "\n",
    "print('{} samples'.format(len(df)))\n",
    "df.head()"
   ]
  },
  {
   "cell_type": "markdown",
   "metadata": {},
   "source": [
    "# IDEA:\n",
    "### Subscribers are more likely to ride their bike during the week than customers.\n",
    "\n",
    "# NULL HYPOTHESIS:\n",
    "### The ratio of subscribers biking on weekends to weekdays is _the same_ or _higher_  than the ratio of customers  biking on weekends to weekdays.\n",
    "\n",
    "# _$H_0$_ : $\\frac{P_{cus,wkd}}{P_{cus,wk}} <= \\frac{P_{sub,wkd}}{P_{sub,wk}}$\n",
    "# _$H_A$_ : $\\frac{P_{cus,wkd}}{P_{cus,wk}} >  \\frac{P_{sub,wkd}}{P_{sub,wk}}$\n",
    "\n",
    "### I will use a significance level  $\\alpha=0.05$\n",
    "\n",
    "#### which means i want the probability of getting a result at least as significant as mine to be less then 5%"
   ]
  },
  {
   "cell_type": "code",
   "execution_count": 14,
   "metadata": {
    "collapsed": false
   },
   "outputs": [
    {
     "data": {
      "text/html": [
       "<div>\n",
       "<table border=\"1\" class=\"dataframe\">\n",
       "  <thead>\n",
       "    <tr style=\"text-align: right;\">\n",
       "      <th></th>\n",
       "      <th>usertype</th>\n",
       "      <th>date</th>\n",
       "    </tr>\n",
       "  </thead>\n",
       "  <tbody>\n",
       "    <tr>\n",
       "      <th>0</th>\n",
       "      <td>Subscriber</td>\n",
       "      <td>2015-01-01 00:01:00</td>\n",
       "    </tr>\n",
       "    <tr>\n",
       "      <th>1</th>\n",
       "      <td>Subscriber</td>\n",
       "      <td>2015-01-01 00:02:00</td>\n",
       "    </tr>\n",
       "    <tr>\n",
       "      <th>2</th>\n",
       "      <td>Subscriber</td>\n",
       "      <td>2015-01-01 00:04:00</td>\n",
       "    </tr>\n",
       "    <tr>\n",
       "      <th>3</th>\n",
       "      <td>Subscriber</td>\n",
       "      <td>2015-01-01 00:04:00</td>\n",
       "    </tr>\n",
       "    <tr>\n",
       "      <th>4</th>\n",
       "      <td>Subscriber</td>\n",
       "      <td>2015-01-01 00:05:00</td>\n",
       "    </tr>\n",
       "  </tbody>\n",
       "</table>\n",
       "</div>"
      ],
      "text/plain": [
       "     usertype                date\n",
       "0  Subscriber 2015-01-01 00:01:00\n",
       "1  Subscriber 2015-01-01 00:02:00\n",
       "2  Subscriber 2015-01-01 00:04:00\n",
       "3  Subscriber 2015-01-01 00:04:00\n",
       "4  Subscriber 2015-01-01 00:05:00"
      ]
     },
     "execution_count": 14,
     "metadata": {},
     "output_type": "execute_result"
    }
   ],
   "source": [
    "# Drop any missing values\n",
    "data = df.dropna(subset=['usertype', 'starttime']).copy()\n",
    "\n",
    "# Use starttime as the date\n",
    "data['date'] = pd.to_datetime(data['starttime'])\n",
    "\n",
    "# Strip out unrelevant columns\n",
    "data.drop([\n",
    "        col for col in data.columns \n",
    "        if col not in ['date', 'usertype']\n",
    "], axis=1, inplace=True)\n",
    "\n",
    "data.head()"
   ]
  },
  {
   "cell_type": "code",
   "execution_count": 57,
   "metadata": {
    "collapsed": false
   },
   "outputs": [
    {
     "data": {
      "text/html": [
       "<div>\n",
       "<table border=\"1\" class=\"dataframe\">\n",
       "  <thead>\n",
       "    <tr style=\"text-align: right;\">\n",
       "      <th></th>\n",
       "      <th>Customers</th>\n",
       "      <th>Subscribers</th>\n",
       "    </tr>\n",
       "    <tr>\n",
       "      <th>date</th>\n",
       "      <th></th>\n",
       "      <th></th>\n",
       "    </tr>\n",
       "  </thead>\n",
       "  <tbody>\n",
       "    <tr>\n",
       "      <th>Mon</th>\n",
       "      <td>633</td>\n",
       "      <td>37369</td>\n",
       "    </tr>\n",
       "    <tr>\n",
       "      <th>Tue</th>\n",
       "      <td>369</td>\n",
       "      <td>38510</td>\n",
       "    </tr>\n",
       "    <tr>\n",
       "      <th>Wed</th>\n",
       "      <td>342</td>\n",
       "      <td>43025</td>\n",
       "    </tr>\n",
       "    <tr>\n",
       "      <th>Thu</th>\n",
       "      <td>1177</td>\n",
       "      <td>51728</td>\n",
       "    </tr>\n",
       "    <tr>\n",
       "      <th>Fri</th>\n",
       "      <td>1290</td>\n",
       "      <td>56539</td>\n",
       "    </tr>\n",
       "    <tr>\n",
       "      <th>Sat</th>\n",
       "      <td>800</td>\n",
       "      <td>27280</td>\n",
       "    </tr>\n",
       "    <tr>\n",
       "      <th>Sun</th>\n",
       "      <td>1017</td>\n",
       "      <td>25473</td>\n",
       "    </tr>\n",
       "  </tbody>\n",
       "</table>\n",
       "</div>"
      ],
      "text/plain": [
       "      Customers  Subscribers\n",
       "date                        \n",
       "Mon         633        37369\n",
       "Tue         369        38510\n",
       "Wed         342        43025\n",
       "Thu        1177        51728\n",
       "Fri        1290        56539\n",
       "Sat         800        27280\n",
       "Sun        1017        25473"
      ]
     },
     "execution_count": 57,
     "metadata": {},
     "output_type": "execute_result"
    }
   ],
   "source": [
    "# Get weekday counts\n",
    "count_c = data.date[data['usertype'] == 'Customer'].groupby([data.date.dt.weekday]).count()\n",
    "count_s = data.date[data['usertype'] == 'Subscriber'].groupby([data.date.dt.weekday]).count()\n",
    "\n",
    "# Replace numerical weekdays with weekday names\n",
    "daysofweek = dict(enumerate(['Mon', 'Tue', 'Wed', 'Thu', 'Fri', 'Sat', 'Sun']))\n",
    "count_c.index = count_c.index.to_series().map(daysofweek)\n",
    "count_s.index = count_s.index.to_series().map(daysofweek)\n",
    "\n",
    "# Display data\n",
    "pd.DataFrame({\n",
    "    'Customers': count_c,\n",
    "    'Subscribers': count_s\n",
    "})"
   ]
  },
  {
   "cell_type": "code",
   "execution_count": 49,
   "metadata": {
    "collapsed": false
   },
   "outputs": [
    {
     "data": {
      "image/png": "[encoded data removed]",
      "text/plain": [
       "<matplotlib.figure.Figure at 0x7f590de55950>"
      ]
     },
     "metadata": {},
     "output_type": "display_data"
    }
   ],
   "source": [
    "_width = 0.4\n",
    "\n",
    "# Plot overall counts\n",
    "plt.subplot(1,2,1)\n",
    "count_c.plot(kind=\"bar\", color='IndianRed', label='Customer', width=_width)\n",
    "plt.title('Distribution of Citi Bike usage for Customers')\n",
    "plt.xlabel('Day of Week')\n",
    "plt.ylabel('N')\n",
    "plt.legend()\n",
    "\n",
    "plt.subplot(1,2,2)\n",
    "count_s.plot(kind=\"bar\", color='SteelBlue', label='Subscriber', width=_width)\n",
    "plt.title('Distribution of Citi Bike usage for Subscribers')\n",
    "plt.xlabel('Day of Week')\n",
    "plt.ylabel('N')\n",
    "plt.legend();"
   ]
  },
  {
   "cell_type": "markdown",
   "metadata": {},
   "source": [
    "### Figure 1a. Distribution of Citi Bike users by user type in 01/2015, absolute counts"
   ]
  },
  {
   "cell_type": "code",
   "execution_count": 53,
   "metadata": {
    "collapsed": false
   },
   "outputs": [
    {
     "data": {
      "image/png": "[encoded data removed]",
      "text/plain": [
       "<matplotlib.figure.Figure at 0x7f590dfddcd0>"
      ]
     },
     "metadata": {},
     "output_type": "display_data"
    }
   ],
   "source": [
    "plt.subplot(1,2,1)\n",
    "count_c.plot(kind=\"bar\",color='IndianRed', width=_width, label='Customer',\n",
    "                         yerr=[ [np.sqrt(count_c)]*2 ])\n",
    "plt.title('Distribution of Citi Bike usage for Customers')\n",
    "plt.xlabel('Day of Week')\n",
    "plt.ylabel('N')\n",
    "plt.legend()\n",
    "\n",
    "plt.subplot(1,2,2)\n",
    "count_s.plot(kind=\"bar\",color='SteelBlue', width=_width, label='Subscriber',\n",
    "                         yerr=[[np.sqrt(count_s)]*2])\n",
    "plt.title('Distribution of Citi Bike usage for Subscribers')\n",
    "plt.xlabel('Day of Week')\n",
    "plt.ylabel('N')\n",
    "plt.legend();"
   ]
  },
  {
   "cell_type": "markdown",
   "metadata": {},
   "source": [
    "### Figure 1b. Distribution of Citi Biky users by age and user type in 01/2015, absolute counts, with statistical errors"
   ]
  },
  {
   "cell_type": "code",
   "execution_count": 51,
   "metadata": {
    "collapsed": false
   },
   "outputs": [
    {
     "data": {
      "image/png": "[encoded data removed]",
      "text/plain": [
       "<matplotlib.figure.Figure at 0x7f590eb23790>"
      ]
     },
     "metadata": {},
     "output_type": "display_data"
    }
   ],
   "source": [
    "norm_c, norm_s = count_c.sum(), count_s.sum()\n",
    "\n",
    "(count_c / norm_c).plot(kind=\"bar\",color='IndianRed', position=0, width=_width,\n",
    "                         yerr=[ [np.sqrt(count_c) / norm_c]*2 ], label='Customer')\n",
    "(count_s / norm_s).plot(kind=\"bar\",color='SteelBlue', position=1, width=_width,\n",
    "                         yerr=[ [np.sqrt(count_s) / norm_s]*2 ], label='Subscriber')\n",
    "plt.title('Normalized distribution of Citi Bike usage by user type')\n",
    "plt.xlabel('Day of Week')\n",
    "plt.ylabel('N')\n",
    "plt.legend();"
   ]
  },
  {
   "cell_type": "markdown",
   "metadata": {},
   "source": [
    "### Figure 2. Distribution of Citi Biky users by age and user type in 01/2015, normalized"
   ]
  }
 ],
 "metadata": {
  "kernelspec": {
   "display_name": "PUI2016_Python2",
   "language": "python",
   "name": "pui2016_python2"
  },
  "language_info": {
   "codemirror_mode": {
    "name": "ipython",
    "version": 2
   },
   "file_extension": ".py",
   "mimetype": "text/x-python",
   "name": "python",
   "nbconvert_exporter": "python",
   "pygments_lexer": "ipython2",
   "version": "2.7.12"
  }
 },
 "nbformat": 4,
 "nbformat_minor": 0
}
